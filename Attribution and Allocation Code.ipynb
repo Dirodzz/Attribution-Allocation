{
 "cells": [
  {
   "cell_type": "code",
   "execution_count": 1,
   "metadata": {},
   "outputs": [],
   "source": [
    "import pandas as pd\n",
    "import matplotlib.pyplot as ply\n",
    "import numpy as np\n",
    "import math\n",
    "import ast"
   ]
  },
  {
   "cell_type": "code",
   "execution_count": 2,
   "metadata": {},
   "outputs": [],
   "source": [
    "df_c = pd.read_csv('attribution_allocation_student_data.csv')"
   ]
  },
  {
   "cell_type": "code",
   "execution_count": 3,
   "metadata": {},
   "outputs": [
    {
     "data": {
      "text/html": [
       "<div>\n",
       "<style scoped>\n",
       "    .dataframe tbody tr th:only-of-type {\n",
       "        vertical-align: middle;\n",
       "    }\n",
       "\n",
       "    .dataframe tbody tr th {\n",
       "        vertical-align: top;\n",
       "    }\n",
       "\n",
       "    .dataframe thead th {\n",
       "        text-align: right;\n",
       "    }\n",
       "</style>\n",
       "<table border=\"1\" class=\"dataframe\">\n",
       "  <thead>\n",
       "    <tr style=\"text-align: right;\">\n",
       "      <th></th>\n",
       "      <th>convert_TF</th>\n",
       "      <th>touch_1</th>\n",
       "      <th>touch_2</th>\n",
       "      <th>touch_3</th>\n",
       "      <th>touch_4</th>\n",
       "      <th>touch_5</th>\n",
       "      <th>tier</th>\n",
       "    </tr>\n",
       "  </thead>\n",
       "  <tbody>\n",
       "    <tr>\n",
       "      <th>0</th>\n",
       "      <td>True</td>\n",
       "      <td>email</td>\n",
       "      <td>direct</td>\n",
       "      <td>social</td>\n",
       "      <td>NaN</td>\n",
       "      <td>NaN</td>\n",
       "      <td>1</td>\n",
       "    </tr>\n",
       "    <tr>\n",
       "      <th>1</th>\n",
       "      <td>True</td>\n",
       "      <td>social</td>\n",
       "      <td>direct</td>\n",
       "      <td>organic_search</td>\n",
       "      <td>NaN</td>\n",
       "      <td>NaN</td>\n",
       "      <td>1</td>\n",
       "    </tr>\n",
       "    <tr>\n",
       "      <th>2</th>\n",
       "      <td>True</td>\n",
       "      <td>organic_search</td>\n",
       "      <td>display</td>\n",
       "      <td>social</td>\n",
       "      <td>NaN</td>\n",
       "      <td>NaN</td>\n",
       "      <td>1</td>\n",
       "    </tr>\n",
       "    <tr>\n",
       "      <th>3</th>\n",
       "      <td>True</td>\n",
       "      <td>social</td>\n",
       "      <td>direct</td>\n",
       "      <td>NaN</td>\n",
       "      <td>NaN</td>\n",
       "      <td>NaN</td>\n",
       "      <td>1</td>\n",
       "    </tr>\n",
       "    <tr>\n",
       "      <th>4</th>\n",
       "      <td>True</td>\n",
       "      <td>social</td>\n",
       "      <td>display</td>\n",
       "      <td>direct</td>\n",
       "      <td>NaN</td>\n",
       "      <td>NaN</td>\n",
       "      <td>1</td>\n",
       "    </tr>\n",
       "  </tbody>\n",
       "</table>\n",
       "</div>"
      ],
      "text/plain": [
       "   convert_TF         touch_1  touch_2         touch_3 touch_4 touch_5  tier\n",
       "0        True           email   direct          social     NaN     NaN     1\n",
       "1        True          social   direct  organic_search     NaN     NaN     1\n",
       "2        True  organic_search  display          social     NaN     NaN     1\n",
       "3        True          social   direct             NaN     NaN     NaN     1\n",
       "4        True          social  display          direct     NaN     NaN     1"
      ]
     },
     "execution_count": 3,
     "metadata": {},
     "output_type": "execute_result"
    }
   ],
   "source": [
    "df_c.head()"
   ]
  },
  {
   "cell_type": "code",
   "execution_count": 4,
   "metadata": {},
   "outputs": [
    {
     "data": {
      "text/plain": [
       "convert_TF      bool\n",
       "touch_1       object\n",
       "touch_2       object\n",
       "touch_3       object\n",
       "touch_4       object\n",
       "touch_5       object\n",
       "tier           int64\n",
       "dtype: object"
      ]
     },
     "execution_count": 4,
     "metadata": {},
     "output_type": "execute_result"
    }
   ],
   "source": [
    "df_c.dtypes"
   ]
  },
  {
   "cell_type": "code",
   "execution_count": 5,
   "metadata": {},
   "outputs": [],
   "source": [
    "# List of possible channel\n",
    "channel = ['social', 'organic_search', 'referral', 'email', 'paid_search', 'display', 'direct']"
   ]
  },
  {
   "cell_type": "code",
   "execution_count": 6,
   "metadata": {},
   "outputs": [],
   "source": [
    "df_s = pd.read_csv('channel_spend_student_data.csv')"
   ]
  },
  {
   "cell_type": "code",
   "execution_count": 7,
   "metadata": {},
   "outputs": [
    {
     "data": {
      "text/html": [
       "<div>\n",
       "<style scoped>\n",
       "    .dataframe tbody tr th:only-of-type {\n",
       "        vertical-align: middle;\n",
       "    }\n",
       "\n",
       "    .dataframe tbody tr th {\n",
       "        vertical-align: top;\n",
       "    }\n",
       "\n",
       "    .dataframe thead th {\n",
       "        text-align: right;\n",
       "    }\n",
       "</style>\n",
       "<table border=\"1\" class=\"dataframe\">\n",
       "  <thead>\n",
       "    <tr style=\"text-align: right;\">\n",
       "      <th></th>\n",
       "      <th>tier</th>\n",
       "      <th>spend by channel</th>\n",
       "    </tr>\n",
       "  </thead>\n",
       "  <tbody>\n",
       "    <tr>\n",
       "      <th>0</th>\n",
       "      <td>1</td>\n",
       "      <td>{'social': 50, 'organic_search': 0, 'referral'...</td>\n",
       "    </tr>\n",
       "    <tr>\n",
       "      <th>1</th>\n",
       "      <td>2</td>\n",
       "      <td>{'social': 100, 'organic_search': 0, 'referral...</td>\n",
       "    </tr>\n",
       "    <tr>\n",
       "      <th>2</th>\n",
       "      <td>3</td>\n",
       "      <td>{'social': 150, 'organic_search': 0, 'referral...</td>\n",
       "    </tr>\n",
       "    <tr>\n",
       "      <th>3</th>\n",
       "      <td>total</td>\n",
       "      <td>{'social': 300, 'organic_search': 0, 'referral...</td>\n",
       "    </tr>\n",
       "  </tbody>\n",
       "</table>\n",
       "</div>"
      ],
      "text/plain": [
       "    tier                                   spend by channel\n",
       "0      1  {'social': 50, 'organic_search': 0, 'referral'...\n",
       "1      2  {'social': 100, 'organic_search': 0, 'referral...\n",
       "2      3  {'social': 150, 'organic_search': 0, 'referral...\n",
       "3  total  {'social': 300, 'organic_search': 0, 'referral..."
      ]
     },
     "execution_count": 7,
     "metadata": {},
     "output_type": "execute_result"
    }
   ],
   "source": [
    "df_s"
   ]
  },
  {
   "cell_type": "code",
   "execution_count": 8,
   "metadata": {},
   "outputs": [
    {
     "data": {
      "text/plain": [
       "tier                object\n",
       "spend by channel    object\n",
       "dtype: object"
      ]
     },
     "execution_count": 8,
     "metadata": {},
     "output_type": "execute_result"
    }
   ],
   "source": [
    "df_s.dtypes"
   ]
  },
  {
   "cell_type": "code",
   "execution_count": 9,
   "metadata": {},
   "outputs": [],
   "source": [
    "# values in spend by channel column are inputed as in a dictionary format but categorized as string, \n",
    "# modify them to make the dataframe being more accessable\n",
    "\n",
    "for row in df_s.itertuples():\n",
    "    di = ast.literal_eval(row[2])\n",
    "    index = row[0]\n",
    "    \n",
    "    for item in di.items():\n",
    "        df_s.at[index, item[0]] = item[1]"
   ]
  },
  {
   "cell_type": "code",
   "execution_count": 10,
   "metadata": {},
   "outputs": [],
   "source": [
    "# Drop the original column\n",
    "df_s.drop(['spend by channel'], axis = 1, inplace = True)"
   ]
  },
  {
   "cell_type": "code",
   "execution_count": 11,
   "metadata": {},
   "outputs": [
    {
     "data": {
      "text/html": [
       "<div>\n",
       "<style scoped>\n",
       "    .dataframe tbody tr th:only-of-type {\n",
       "        vertical-align: middle;\n",
       "    }\n",
       "\n",
       "    .dataframe tbody tr th {\n",
       "        vertical-align: top;\n",
       "    }\n",
       "\n",
       "    .dataframe thead th {\n",
       "        text-align: right;\n",
       "    }\n",
       "</style>\n",
       "<table border=\"1\" class=\"dataframe\">\n",
       "  <thead>\n",
       "    <tr style=\"text-align: right;\">\n",
       "      <th></th>\n",
       "      <th>tier</th>\n",
       "      <th>social</th>\n",
       "      <th>organic_search</th>\n",
       "      <th>referral</th>\n",
       "      <th>email</th>\n",
       "      <th>paid_search</th>\n",
       "      <th>display</th>\n",
       "      <th>direct</th>\n",
       "    </tr>\n",
       "  </thead>\n",
       "  <tbody>\n",
       "    <tr>\n",
       "      <th>0</th>\n",
       "      <td>1</td>\n",
       "      <td>50.0</td>\n",
       "      <td>0.0</td>\n",
       "      <td>50.0</td>\n",
       "      <td>50.0</td>\n",
       "      <td>50.0</td>\n",
       "      <td>50.0</td>\n",
       "      <td>0.0</td>\n",
       "    </tr>\n",
       "    <tr>\n",
       "      <th>1</th>\n",
       "      <td>2</td>\n",
       "      <td>100.0</td>\n",
       "      <td>0.0</td>\n",
       "      <td>100.0</td>\n",
       "      <td>100.0</td>\n",
       "      <td>100.0</td>\n",
       "      <td>100.0</td>\n",
       "      <td>0.0</td>\n",
       "    </tr>\n",
       "    <tr>\n",
       "      <th>2</th>\n",
       "      <td>3</td>\n",
       "      <td>150.0</td>\n",
       "      <td>0.0</td>\n",
       "      <td>150.0</td>\n",
       "      <td>150.0</td>\n",
       "      <td>150.0</td>\n",
       "      <td>150.0</td>\n",
       "      <td>0.0</td>\n",
       "    </tr>\n",
       "    <tr>\n",
       "      <th>3</th>\n",
       "      <td>total</td>\n",
       "      <td>300.0</td>\n",
       "      <td>0.0</td>\n",
       "      <td>300.0</td>\n",
       "      <td>300.0</td>\n",
       "      <td>300.0</td>\n",
       "      <td>300.0</td>\n",
       "      <td>0.0</td>\n",
       "    </tr>\n",
       "  </tbody>\n",
       "</table>\n",
       "</div>"
      ],
      "text/plain": [
       "    tier  social  organic_search  referral  email  paid_search  display  \\\n",
       "0      1    50.0             0.0      50.0   50.0         50.0     50.0   \n",
       "1      2   100.0             0.0     100.0  100.0        100.0    100.0   \n",
       "2      3   150.0             0.0     150.0  150.0        150.0    150.0   \n",
       "3  total   300.0             0.0     300.0  300.0        300.0    300.0   \n",
       "\n",
       "   direct  \n",
       "0     0.0  \n",
       "1     0.0  \n",
       "2     0.0  \n",
       "3     0.0  "
      ]
     },
     "execution_count": 11,
     "metadata": {},
     "output_type": "execute_result"
    }
   ],
   "source": [
    "df_s"
   ]
  },
  {
   "cell_type": "markdown",
   "metadata": {},
   "source": [
    "## Part 1. Attribution"
   ]
  },
  {
   "cell_type": "markdown",
   "metadata": {},
   "source": [
    "### Method -- Last Interaction "
   ]
  },
  {
   "cell_type": "code",
   "execution_count": 12,
   "metadata": {},
   "outputs": [],
   "source": [
    "# Create a dictionary to count the number of True convert and False Convert for each channel\n",
    "\n",
    "LI_count = {'Method': 'Last Interaction'}\n",
    "\n",
    "for i in channel:\n",
    "    LI_count[i] = {'True':0, 'False':0}"
   ]
  },
  {
   "cell_type": "code",
   "execution_count": 13,
   "metadata": {
    "scrolled": true
   },
   "outputs": [],
   "source": [
    "# Iterate over the dataframe to obtain the last interaction channel for each customer\n",
    "for row in df_c.itertuples():\n",
    "    # For each customer, get the last interaction channel (not np.nan)\n",
    "    for i in range(6,1,-1):\n",
    "        if not pd.isnull(row[i]):\n",
    "            # Since convert_TF is a boolean, it could be used directly in if-condition statement\n",
    "            if row[1]:\n",
    "                LI_count[row[i]]['True'] +=1\n",
    "            else:\n",
    "                LI_count[row[i]]['False'] +=1\n",
    "            break\n",
    "        "
   ]
  },
  {
   "cell_type": "code",
   "execution_count": 14,
   "metadata": {},
   "outputs": [
    {
     "data": {
      "text/plain": [
       "{'Method': 'Last Interaction',\n",
       " 'social': {'True': 352, 'False': 34287},\n",
       " 'organic_search': {'True': 662, 'False': 51494},\n",
       " 'referral': {'True': 10, 'False': 659},\n",
       " 'email': {'True': 323, 'False': 25449},\n",
       " 'paid_search': {'True': 12, 'False': 681},\n",
       " 'display': {'True': 406, 'False': 57006},\n",
       " 'direct': {'True': 613, 'False': 46458}}"
      ]
     },
     "execution_count": 14,
     "metadata": {},
     "output_type": "execute_result"
    }
   ],
   "source": [
    "LI_count"
   ]
  },
  {
   "cell_type": "code",
   "execution_count": 15,
   "metadata": {},
   "outputs": [
    {
     "name": "stdout",
     "output_type": "stream",
     "text": [
      "218412\n",
      "True\n"
     ]
    }
   ],
   "source": [
    "# Check result\n",
    "\n",
    "su = 0\n",
    "\n",
    "for key in LI_count.keys():\n",
    "    if key != 'Method':\n",
    "        su += LI_count[key]['True']\n",
    "        su += LI_count[key]['False']\n",
    "\n",
    "print(su)\n",
    "print(su == df_c.shape[0])"
   ]
  },
  {
   "cell_type": "code",
   "execution_count": 16,
   "metadata": {},
   "outputs": [],
   "source": [
    "# Calculate CAC for each channel without considering tiers\n",
    "\n",
    "def CAC_calc(d):\n",
    "    \n",
    "    '''\n",
    "    input -> (dict) a dictionary with keys as marketing channels\n",
    "    and values as a sub-dictionary which have keys as convert_TF \n",
    "    and values as number of T and F\n",
    "    \n",
    "    return -> (dict) a dictionary with keys as the marketing channels \n",
    "    and values as CAC calculated using total marketing cost divide \n",
    "    number of successful converted customer for each channel\n",
    "    '''\n",
    "    \n",
    "    # Initiate the result dictionary\n",
    "    result = {}\n",
    "    result['Method'] = d['Method']\n",
    "    \n",
    "    # Calculation\n",
    "    \n",
    "    for key in d.keys():\n",
    "        if key != 'Method':\n",
    "            total_c = float(df_s.loc[(df_s['tier'] == 'total')][key])\n",
    "            n_succ = d[key]['True']\n",
    "        \n",
    "            result[key] = total_c/n_succ\n",
    "        \n",
    "    return result"
   ]
  },
  {
   "cell_type": "code",
   "execution_count": 17,
   "metadata": {},
   "outputs": [
    {
     "data": {
      "text/plain": [
       "{'Method': 'Last Interaction',\n",
       " 'social': 0.8522727272727273,\n",
       " 'organic_search': 0.0,\n",
       " 'referral': 30.0,\n",
       " 'email': 0.9287925696594427,\n",
       " 'paid_search': 25.0,\n",
       " 'display': 0.7389162561576355,\n",
       " 'direct': 0.0}"
      ]
     },
     "execution_count": 17,
     "metadata": {},
     "output_type": "execute_result"
    }
   ],
   "source": [
    "CAC_calc(LI_count)"
   ]
  },
  {
   "cell_type": "markdown",
   "metadata": {},
   "source": [
    "### Method -- First Interaction"
   ]
  },
  {
   "cell_type": "code",
   "execution_count": 18,
   "metadata": {},
   "outputs": [],
   "source": [
    "# Create a dictionary to count the number of True convert and False Convert for each channel\n",
    "\n",
    "FI_count = {'Method': 'First Interaction'}\n",
    "\n",
    "for i in channel:\n",
    "    FI_count[i] = {'True':0, 'False':0}\n",
    "    \n",
    "    \n",
    "# Iterate over the dataframe to obtain the first interaction channel for each customer\n",
    "for row in df_c.itertuples():\n",
    "    # For each customer, get the first interaction channel (not np.nan)\n",
    "    for i in range(2,7,1):\n",
    "        if not pd.isnull(row[i]):\n",
    "            # Since convert_TF is a boolean, it could be used directly in if-condition statement\n",
    "            if row[1]:\n",
    "                FI_count[row[i]]['True'] +=1\n",
    "            else:\n",
    "                FI_count[row[i]]['False'] +=1\n",
    "            break\n",
    "        "
   ]
  },
  {
   "cell_type": "code",
   "execution_count": 19,
   "metadata": {},
   "outputs": [
    {
     "data": {
      "text/plain": [
       "{'Method': 'First Interaction',\n",
       " 'social': {'True': 340, 'False': 34696},\n",
       " 'organic_search': {'True': 675, 'False': 51846},\n",
       " 'referral': {'True': 10, 'False': 681},\n",
       " 'email': {'True': 357, 'False': 25226},\n",
       " 'paid_search': {'True': 12, 'False': 635},\n",
       " 'display': {'True': 434, 'False': 56742},\n",
       " 'direct': {'True': 550, 'False': 46208}}"
      ]
     },
     "execution_count": 19,
     "metadata": {},
     "output_type": "execute_result"
    }
   ],
   "source": [
    "FI_count"
   ]
  },
  {
   "cell_type": "code",
   "execution_count": 20,
   "metadata": {},
   "outputs": [
    {
     "name": "stdout",
     "output_type": "stream",
     "text": [
      "218412\n",
      "True\n"
     ]
    }
   ],
   "source": [
    "# Check result\n",
    "\n",
    "su = 0\n",
    "\n",
    "for key in FI_count.keys():\n",
    "    if key != 'Method':\n",
    "        su += FI_count[key]['True']\n",
    "        su += FI_count[key]['False']\n",
    "\n",
    "print(su)\n",
    "print(su == df_c.shape[0])"
   ]
  },
  {
   "cell_type": "code",
   "execution_count": 21,
   "metadata": {},
   "outputs": [
    {
     "data": {
      "text/plain": [
       "{'Method': 'First Interaction',\n",
       " 'social': 0.8823529411764706,\n",
       " 'organic_search': 0.0,\n",
       " 'referral': 30.0,\n",
       " 'email': 0.8403361344537815,\n",
       " 'paid_search': 25.0,\n",
       " 'display': 0.6912442396313364,\n",
       " 'direct': 0.0}"
      ]
     },
     "execution_count": 21,
     "metadata": {},
     "output_type": "execute_result"
    }
   ],
   "source": [
    "CAC_calc(FI_count)"
   ]
  },
  {
   "cell_type": "markdown",
   "metadata": {},
   "source": [
    "### Method -- Linear Attribution"
   ]
  },
  {
   "cell_type": "code",
   "execution_count": 22,
   "metadata": {},
   "outputs": [],
   "source": [
    "# Create a dictionary to count the number of True convert and False Convert for each channel\n",
    "\n",
    "LA_count = {'Method': 'Linear'}\n",
    "\n",
    "for i in channel:\n",
    "    LA_count[i] = {'True':0, 'False':0}"
   ]
  },
  {
   "cell_type": "code",
   "execution_count": 23,
   "metadata": {},
   "outputs": [],
   "source": [
    "# Iterate over the dataframe to obtain the channels used for each customer\n",
    "for row in df_c.itertuples():\n",
    "    temp = []\n",
    "    \n",
    "    \n",
    "    # For each customer, get all channels used (not np.nan)\n",
    "    for i in range(2,7,1):\n",
    "        if not pd.isnull(row[i]):\n",
    "            temp.append(row[i])\n",
    "    \n",
    "    # Allocate the credit linearly (evenly) to all channels used         \n",
    "    avg_credit = 1/len(temp)\n",
    "    \n",
    "    for i in temp:\n",
    "        if row[1]:\n",
    "            LA_count[i]['True'] += avg_credit\n",
    "        else:\n",
    "            LA_count[i]['False'] += avg_credit\n"
   ]
  },
  {
   "cell_type": "code",
   "execution_count": 24,
   "metadata": {},
   "outputs": [
    {
     "data": {
      "text/plain": [
       "{'Method': 'Linear',\n",
       " 'social': {'True': 353.16666666666396, 'False': 34408.71666665843},\n",
       " 'organic_search': {'True': 667.3333333333375, 'False': 51663.73333335842},\n",
       " 'referral': {'True': 10.283333333333335, 'False': 658.916666666671},\n",
       " 'email': {'True': 337.61666666666446, 'False': 25357.6500000015},\n",
       " 'paid_search': {'True': 10.566666666666668, 'False': 673.4500000000086},\n",
       " 'display': {'True': 416.6666666666625, 'False': 56946.86666669063},\n",
       " 'direct': {'True': 582.3666666666646, 'False': 46324.66666668092}}"
      ]
     },
     "execution_count": 24,
     "metadata": {},
     "output_type": "execute_result"
    }
   ],
   "source": [
    "LA_count"
   ]
  },
  {
   "cell_type": "code",
   "execution_count": 25,
   "metadata": {},
   "outputs": [
    {
     "name": "stdout",
     "output_type": "stream",
     "text": [
      "218412\n",
      "True\n"
     ]
    }
   ],
   "source": [
    "# Check result\n",
    "\n",
    "su = 0\n",
    "\n",
    "for key in FI_count.keys():\n",
    "    if key != 'Method':\n",
    "        su += FI_count[key]['True']\n",
    "        su += FI_count[key]['False']\n",
    "\n",
    "print(su)\n",
    "print(su == df_c.shape[0])"
   ]
  },
  {
   "cell_type": "code",
   "execution_count": 26,
   "metadata": {},
   "outputs": [
    {
     "data": {
      "text/plain": [
       "{'Method': 'Linear',\n",
       " 'social': 0.8494572911750891,\n",
       " 'organic_search': 0.0,\n",
       " 'referral': 29.17341977309562,\n",
       " 'email': 0.8885817248358651,\n",
       " 'paid_search': 28.39116719242902,\n",
       " 'display': 0.7200000000000072,\n",
       " 'direct': 0.0}"
      ]
     },
     "execution_count": 26,
     "metadata": {},
     "output_type": "execute_result"
    }
   ],
   "source": [
    "CAC_calc(LA_count)"
   ]
  },
  {
   "cell_type": "markdown",
   "metadata": {},
   "source": [
    "### Method -- Position Based"
   ]
  },
  {
   "cell_type": "code",
   "execution_count": 27,
   "metadata": {},
   "outputs": [],
   "source": [
    "# Under this method, assuming the first interaction and last interaction contributing 40% of the credit each \n",
    "# and the rest (20%) are evenly assigned to the channel in the middle\n",
    "# If only one channel is used, 100& credit to the channel\n",
    "# If two channels -- 50% for each\n",
    "\n",
    "\n",
    "# Create a dictionary to count the number of True convert and False Convert for each channel\n",
    "\n",
    "PB_count = {'Method': 'Position Based'}\n",
    "\n",
    "for i in channel:\n",
    "    PB_count[i] = {'True':0, 'False':0}"
   ]
  },
  {
   "cell_type": "code",
   "execution_count": 28,
   "metadata": {},
   "outputs": [],
   "source": [
    "# Iterate over the dataframe to obtain the first interaction channel for each customer\n",
    "for row in df_c.itertuples():\n",
    "    temp = []\n",
    "    \n",
    "    # For each customer, get all channels used (not np.nan)\n",
    "    for i in range(2,7,1):\n",
    "        if not pd.isnull(row[i]):\n",
    "            temp.append(row[i])\n",
    "    \n",
    "    # One channel only situation\n",
    "    if len(temp) == 1:\n",
    "        if row[1]:\n",
    "            PB_count[temp[0]]['True'] += 1\n",
    "        else:\n",
    "            PB_count[temp[0]]['False'] += 1\n",
    "    \n",
    "    # Two Channels situation\n",
    "    elif len(temp) == 2:\n",
    "        for i in temp:\n",
    "            if row[1]:\n",
    "                PB_count[i]['True'] += 0.5\n",
    "            else:\n",
    "                PB_count[i]['False'] += 0.5\n",
    "                \n",
    "    # More than two channels            \n",
    "    else:\n",
    "        # Get the first and last channel\n",
    "        first = temp[0]\n",
    "        last = temp[-1]\n",
    "        \n",
    "        # Calcluate the allocation for channels in between\n",
    "        avg_credit = 0.2/(len(temp) - 2)\n",
    "        \n",
    "        \n",
    "        if row[1]:\n",
    "            # Allocate 40% credit to first and last channel\n",
    "            PB_count[first]['True'] += 0.4\n",
    "            PB_count[last]['True'] += 0.4\n",
    "            \n",
    "            # Allocate the remaining 20& credit evenly to the middle channel(s)\n",
    "            for i in range(1, len(temp) - 1, 1):\n",
    "                PB_count[temp[i]]['True'] += avg_credit\n",
    "        \n",
    "        else:\n",
    "            PB_count[first]['False'] += 0.4\n",
    "            PB_count[last]['False'] += 0.4\n",
    "            for i in range(1, len(temp) - 1, 1):\n",
    "                PB_count[temp[i]]['False'] += avg_credit"
   ]
  },
  {
   "cell_type": "code",
   "execution_count": 29,
   "metadata": {},
   "outputs": [
    {
     "data": {
      "text/plain": [
       "{'Method': 'Position Based',\n",
       " 'social': {'True': 349.29999999999717, 'False': 34452.20000002224},\n",
       " 'organic_search': {'True': 669.0333333333288, 'False': 51675.233333359},\n",
       " 'referral': {'True': 10.300000000000002, 'False': 666.1666666666621},\n",
       " 'email': {'True': 340.5666666666644, 'False': 25354.166666679663},\n",
       " 'paid_search': {'True': 11.233333333333336, 'False': 662.7666666666651},\n",
       " 'display': {'True': 416.69999999999635, 'False': 56896.73333335448},\n",
       " 'direct': {'True': 580.866666666661, 'False': 46326.73333335914}}"
      ]
     },
     "execution_count": 29,
     "metadata": {},
     "output_type": "execute_result"
    }
   ],
   "source": [
    "PB_count"
   ]
  },
  {
   "cell_type": "code",
   "execution_count": 30,
   "metadata": {},
   "outputs": [
    {
     "name": "stdout",
     "output_type": "stream",
     "text": [
      "218412\n",
      "True\n"
     ]
    }
   ],
   "source": [
    "# Check result\n",
    "\n",
    "su = 0\n",
    "\n",
    "for key in PB_count.keys():\n",
    "    if key != 'Method':\n",
    "        su += PB_count[key]['True']\n",
    "        su += PB_count[key]['False']\n",
    "\n",
    "print(round(su))\n",
    "print(round(su) == df_c.shape[0])"
   ]
  },
  {
   "cell_type": "code",
   "execution_count": 31,
   "metadata": {},
   "outputs": [
    {
     "data": {
      "text/plain": [
       "{'Method': 'Position Based',\n",
       " 'social': 0.858860578299463,\n",
       " 'organic_search': 0.0,\n",
       " 'referral': 29.126213592233004,\n",
       " 'email': 0.8808847998434042,\n",
       " 'paid_search': 26.706231454005927,\n",
       " 'display': 0.7199424046076377,\n",
       " 'direct': 0.0}"
      ]
     },
     "execution_count": 31,
     "metadata": {},
     "output_type": "execute_result"
    }
   ],
   "source": [
    "CAC_calc(PB_count)"
   ]
  },
  {
   "cell_type": "markdown",
   "metadata": {},
   "source": [
    "## Part 2. Allocation"
   ]
  },
  {
   "cell_type": "markdown",
   "metadata": {},
   "source": [
    "### Method -- Linear Attribution"
   ]
  },
  {
   "cell_type": "code",
   "execution_count": 32,
   "metadata": {},
   "outputs": [],
   "source": [
    "# First, redo the count process by tier\n",
    "\n",
    "tier = [1,2,3]\n",
    "\n",
    "LA_count_t = {'Method': 'Linear'}\n",
    "\n",
    "for i in tier:\n",
    "    LA_count_t[i] = dict()\n",
    "    for j in channel:\n",
    "        LA_count_t[i][j] = {'True':0, 'False':0}"
   ]
  },
  {
   "cell_type": "code",
   "execution_count": 33,
   "metadata": {},
   "outputs": [
    {
     "data": {
      "text/plain": [
       "{'Method': 'Linear',\n",
       " 1: {'social': {'True': 0, 'False': 0},\n",
       "  'organic_search': {'True': 0, 'False': 0},\n",
       "  'referral': {'True': 0, 'False': 0},\n",
       "  'email': {'True': 0, 'False': 0},\n",
       "  'paid_search': {'True': 0, 'False': 0},\n",
       "  'display': {'True': 0, 'False': 0},\n",
       "  'direct': {'True': 0, 'False': 0}},\n",
       " 2: {'social': {'True': 0, 'False': 0},\n",
       "  'organic_search': {'True': 0, 'False': 0},\n",
       "  'referral': {'True': 0, 'False': 0},\n",
       "  'email': {'True': 0, 'False': 0},\n",
       "  'paid_search': {'True': 0, 'False': 0},\n",
       "  'display': {'True': 0, 'False': 0},\n",
       "  'direct': {'True': 0, 'False': 0}},\n",
       " 3: {'social': {'True': 0, 'False': 0},\n",
       "  'organic_search': {'True': 0, 'False': 0},\n",
       "  'referral': {'True': 0, 'False': 0},\n",
       "  'email': {'True': 0, 'False': 0},\n",
       "  'paid_search': {'True': 0, 'False': 0},\n",
       "  'display': {'True': 0, 'False': 0},\n",
       "  'direct': {'True': 0, 'False': 0}}}"
      ]
     },
     "execution_count": 33,
     "metadata": {},
     "output_type": "execute_result"
    }
   ],
   "source": [
    "LA_count_t"
   ]
  },
  {
   "cell_type": "code",
   "execution_count": 34,
   "metadata": {},
   "outputs": [],
   "source": [
    "# Iterate over the dataframe to obtain the channels used for each customer\n",
    "for row in df_c.itertuples():\n",
    "    temp = []\n",
    "    tier = row[-1]\n",
    "    \n",
    "    # For each customer, get all channels used (not np.nan)\n",
    "    for i in range(2,7,1):\n",
    "        if not pd.isnull(row[i]):\n",
    "            temp.append(row[i])\n",
    "    \n",
    "    # Allocate the credit linearly (evenly) to all channels used         \n",
    "    avg_credit = 1/len(temp)\n",
    "    \n",
    "    for i in temp:\n",
    "        if row[1]:\n",
    "            LA_count_t[tier][i]['True'] += avg_credit\n",
    "        else:\n",
    "            LA_count_t[tier][i]['False'] += avg_credit\n"
   ]
  },
  {
   "cell_type": "code",
   "execution_count": 35,
   "metadata": {},
   "outputs": [
    {
     "data": {
      "text/plain": [
       "{'Method': 'Linear',\n",
       " 1: {'social': {'True': 68.58333333333346, 'False': 6066.449999999007},\n",
       "  'organic_search': {'True': 117.63333333333317, 'False': 8308.16666666488},\n",
       "  'referral': {'True': 1.3333333333333333, 'False': 79.80000000000018},\n",
       "  'email': {'True': 62.71666666666676, 'False': 4175.483333333347},\n",
       "  'paid_search': {'True': 2.15, 'False': 91.06666666666673},\n",
       "  'display': {'True': 85.91666666666664, 'False': 9915.166666667361},\n",
       "  'direct': {'True': 102.66666666666664, 'False': 7324.866666665519}},\n",
       " 2: {'social': {'True': 129.1166666666666, 'False': 11655.650000003008},\n",
       "  'organic_search': {'True': 225.28333333333356, 'False': 17042.05000000623},\n",
       "  'referral': {'True': 2.716666666666667, 'False': 204.73333333333292},\n",
       "  'email': {'True': 111.9166666666666, 'False': 8346.683333331555},\n",
       "  'paid_search': {'True': 3.066666666666667, 'False': 215.6499999999997},\n",
       "  'display': {'True': 153.86666666666653, 'False': 19220.466666670487},\n",
       "  'direct': {'True': 185.03333333333353, 'False': 15307.766666672915}},\n",
       " 3: {'social': {'True': 155.46666666666667, 'False': 16686.616666674698},\n",
       "  'organic_search': {'True': 324.41666666666515, 'False': 26313.516666660402},\n",
       "  'referral': {'True': 6.2333333333333325, 'False': 374.38333333332895},\n",
       "  'email': {'True': 162.98333333333346, 'False': 12835.483333337203},\n",
       "  'paid_search': {'True': 5.3500000000000005, 'False': 366.7333333333285},\n",
       "  'display': {'True': 176.88333333333324, 'False': 27811.233333329106},\n",
       "  'direct': {'True': 294.66666666666646, 'False': 23692.03333333149}}}"
      ]
     },
     "execution_count": 35,
     "metadata": {},
     "output_type": "execute_result"
    }
   ],
   "source": [
    "LA_count_t"
   ]
  },
  {
   "cell_type": "code",
   "execution_count": 36,
   "metadata": {},
   "outputs": [],
   "source": [
    "def check_t(d):\n",
    "    \n",
    "    '''\n",
    "    add up counts to check whether the allocation performed as desired\n",
    "    '''\n",
    "    \n",
    "    for key in LA_count_t.keys():\n",
    "        if key != 'Method':\n",
    "            n = 0\n",
    "            for k in LA_count_t[key].keys():\n",
    "                n += LA_count_t[key][k]['True']\n",
    "                n += LA_count_t[key][k]['False']\n",
    "\n",
    "            print('tier ' + str(key) + ' :')\n",
    "\n",
    "            print('Total number = ' + str(round(n)))"
   ]
  },
  {
   "cell_type": "code",
   "execution_count": 37,
   "metadata": {},
   "outputs": [
    {
     "name": "stdout",
     "output_type": "stream",
     "text": [
      "tier 1 :\n",
      "Total number = 36402\n",
      "tier 2 :\n",
      "Total number = 72804\n",
      "tier 3 :\n",
      "Total number = 109206\n"
     ]
    }
   ],
   "source": [
    "check_t(LA_count_t)"
   ]
  },
  {
   "cell_type": "code",
   "execution_count": 38,
   "metadata": {},
   "outputs": [],
   "source": [
    "# Calculate Marginal CAC for each channel \n",
    "\n",
    "def Marginal_CAC_calc(d):\n",
    "    \n",
    "    '''\n",
    "    input -> (dict) a dictionary with keys as tiers\n",
    "    and values as a sub-dictionary which have keys as channels and\n",
    "    values as another sub-dictionary with key as convert_TF and value as \n",
    "    number of T and F\n",
    "    \n",
    "    return -> (dict) a dictionary with keys as the marketing channels \n",
    "    and values as Marginal CAC calculated using total marketing cost divide \n",
    "    number of successful converted customer for each channel\n",
    "    '''\n",
    "    \n",
    "    # Initiate the result dictionary\n",
    "    result = {}\n",
    "    result['Method'] = d['Method']\n",
    "    \n",
    "    # Calculation\n",
    "    \n",
    "    for key in d.keys():\n",
    "        if key != 'Method':\n",
    "            # this key is the tier\n",
    "            result[key] = dict()\n",
    "            for channel in d[key].keys():\n",
    "                if key == 1:\n",
    "                    cost = float(df_s.loc[(df_s['tier'] == str(key))][channel])\n",
    "                    n_succ = d[key][channel]['True']\n",
    "                else:\n",
    "                    cost = float(df_s.loc[(df_s['tier'] == str(key))][channel]) \\\n",
    "                    - float(df_s.loc[(df_s['tier'] == str(key - 1))][channel])\n",
    "                    n_succ = d[key][channel]['True'] - d[key - 1][channel]['True']\n",
    "                \n",
    "                if n_succ != 0:\n",
    "                    result[key][channel] = cost/n_succ\n",
    "                else:\n",
    "                    result[key][channel] = np.nan\n",
    "                \n",
    "    return result"
   ]
  },
  {
   "cell_type": "code",
   "execution_count": 39,
   "metadata": {},
   "outputs": [
    {
     "data": {
      "text/plain": [
       "{'Method': 'Linear',\n",
       " 1: {'social': 0.729040097205345,\n",
       "  'organic_search': 0.0,\n",
       "  'referral': 37.5,\n",
       "  'email': 0.7972362476747265,\n",
       "  'paid_search': 23.255813953488374,\n",
       "  'display': 0.5819592628516006,\n",
       "  'direct': 0.0},\n",
       " 2: {'social': 0.8259911894273155,\n",
       "  'organic_search': 0.0,\n",
       "  'referral': 36.14457831325301,\n",
       "  'email': 1.0162601626016294,\n",
       "  'paid_search': 54.545454545454525,\n",
       "  'display': 0.7358351729212669,\n",
       "  'direct': 0.0},\n",
       " 3: {'social': 1.8975332068311137,\n",
       "  'organic_search': 0.0,\n",
       "  'referral': 14.21800947867299,\n",
       "  'email': 0.9791122715404662,\n",
       "  'paid_search': 21.897810218978098,\n",
       "  'display': 2.172338884866035,\n",
       "  'direct': 0.0}}"
      ]
     },
     "execution_count": 39,
     "metadata": {},
     "output_type": "execute_result"
    }
   ],
   "source": [
    "# Calculate marginal CAC for each tier\n",
    "\n",
    "Marginal_CAC_calc(LA_count_t)"
   ]
  },
  {
   "cell_type": "code",
   "execution_count": 40,
   "metadata": {},
   "outputs": [
    {
     "data": {
      "text/html": [
       "<div>\n",
       "<style scoped>\n",
       "    .dataframe tbody tr th:only-of-type {\n",
       "        vertical-align: middle;\n",
       "    }\n",
       "\n",
       "    .dataframe tbody tr th {\n",
       "        vertical-align: top;\n",
       "    }\n",
       "\n",
       "    .dataframe thead th {\n",
       "        text-align: right;\n",
       "    }\n",
       "</style>\n",
       "<table border=\"1\" class=\"dataframe\">\n",
       "  <thead>\n",
       "    <tr style=\"text-align: right;\">\n",
       "      <th></th>\n",
       "      <th>Method</th>\n",
       "      <th>1</th>\n",
       "      <th>2</th>\n",
       "      <th>3</th>\n",
       "    </tr>\n",
       "  </thead>\n",
       "  <tbody>\n",
       "    <tr>\n",
       "      <th>social</th>\n",
       "      <td>Linear</td>\n",
       "      <td>0.729040</td>\n",
       "      <td>0.825991</td>\n",
       "      <td>1.897533</td>\n",
       "    </tr>\n",
       "    <tr>\n",
       "      <th>organic_search</th>\n",
       "      <td>Linear</td>\n",
       "      <td>0.000000</td>\n",
       "      <td>0.000000</td>\n",
       "      <td>0.000000</td>\n",
       "    </tr>\n",
       "    <tr>\n",
       "      <th>referral</th>\n",
       "      <td>Linear</td>\n",
       "      <td>37.500000</td>\n",
       "      <td>36.144578</td>\n",
       "      <td>14.218009</td>\n",
       "    </tr>\n",
       "    <tr>\n",
       "      <th>email</th>\n",
       "      <td>Linear</td>\n",
       "      <td>0.797236</td>\n",
       "      <td>1.016260</td>\n",
       "      <td>0.979112</td>\n",
       "    </tr>\n",
       "    <tr>\n",
       "      <th>paid_search</th>\n",
       "      <td>Linear</td>\n",
       "      <td>23.255814</td>\n",
       "      <td>54.545455</td>\n",
       "      <td>21.897810</td>\n",
       "    </tr>\n",
       "    <tr>\n",
       "      <th>display</th>\n",
       "      <td>Linear</td>\n",
       "      <td>0.581959</td>\n",
       "      <td>0.735835</td>\n",
       "      <td>2.172339</td>\n",
       "    </tr>\n",
       "    <tr>\n",
       "      <th>direct</th>\n",
       "      <td>Linear</td>\n",
       "      <td>0.000000</td>\n",
       "      <td>0.000000</td>\n",
       "      <td>0.000000</td>\n",
       "    </tr>\n",
       "  </tbody>\n",
       "</table>\n",
       "</div>"
      ],
      "text/plain": [
       "                Method          1          2          3\n",
       "social          Linear   0.729040   0.825991   1.897533\n",
       "organic_search  Linear   0.000000   0.000000   0.000000\n",
       "referral        Linear  37.500000  36.144578  14.218009\n",
       "email           Linear   0.797236   1.016260   0.979112\n",
       "paid_search     Linear  23.255814  54.545455  21.897810\n",
       "display         Linear   0.581959   0.735835   2.172339\n",
       "direct          Linear   0.000000   0.000000   0.000000"
      ]
     },
     "execution_count": 40,
     "metadata": {},
     "output_type": "execute_result"
    }
   ],
   "source": [
    "pd.DataFrame(data = Marginal_CAC_calc(LA_count_t))"
   ]
  },
  {
   "cell_type": "markdown",
   "metadata": {},
   "source": [
    "### Method -- Last Interaction"
   ]
  },
  {
   "cell_type": "code",
   "execution_count": 41,
   "metadata": {},
   "outputs": [],
   "source": [
    "LI_count_t = {'Method': 'Last Interaction'}\n",
    "\n",
    "tier = [1,2,3]\n",
    "\n",
    "for i in tier:\n",
    "    LI_count_t[i] = dict()\n",
    "    for j in channel:\n",
    "        LI_count_t[i][j] = {'True':0, 'False':0}\n",
    "        \n",
    "        \n",
    "\n",
    "# Iterate over the dataframe to obtain the last interaction channel for each customer\n",
    "for row in df_c.itertuples():\n",
    "    tier = row[-1]\n",
    "    # For each customer, get the last interaction channel (not np.nan)\n",
    "    for i in range(6,1,-1):\n",
    "        if not pd.isnull(row[i]):\n",
    "            # Since convert_TF is a boolean, it could be used directly in if-condition statement\n",
    "            if row[1]:\n",
    "                LI_count_t[tier][row[i]]['True'] +=1\n",
    "            else:\n",
    "                LI_count_t[tier][row[i]]['False'] +=1\n",
    "            break\n",
    "        "
   ]
  },
  {
   "cell_type": "code",
   "execution_count": 42,
   "metadata": {},
   "outputs": [
    {
     "data": {
      "text/plain": [
       "{'Method': 'Last Interaction',\n",
       " 1: {'social': {'True': 58, 'False': 5977},\n",
       "  'organic_search': {'True': 121, 'False': 8276},\n",
       "  'referral': {'True': 1, 'False': 83},\n",
       "  'email': {'True': 65, 'False': 4212},\n",
       "  'paid_search': {'True': 2, 'False': 80},\n",
       "  'display': {'True': 72, 'False': 9987},\n",
       "  'direct': {'True': 122, 'False': 7346}},\n",
       " 2: {'social': {'True': 129, 'False': 11673},\n",
       "  'organic_search': {'True': 223, 'False': 16992},\n",
       "  'referral': {'True': 2, 'False': 218},\n",
       "  'email': {'True': 99, 'False': 8308},\n",
       "  'paid_search': {'True': 2, 'False': 217},\n",
       "  'display': {'True': 159, 'False': 19279},\n",
       "  'direct': {'True': 197, 'False': 15306}},\n",
       " 3: {'social': {'True': 165, 'False': 16637},\n",
       "  'organic_search': {'True': 318, 'False': 26226},\n",
       "  'referral': {'True': 7, 'False': 358},\n",
       "  'email': {'True': 159, 'False': 12929},\n",
       "  'paid_search': {'True': 8, 'False': 384},\n",
       "  'display': {'True': 175, 'False': 27740},\n",
       "  'direct': {'True': 294, 'False': 23806}}}"
      ]
     },
     "execution_count": 42,
     "metadata": {},
     "output_type": "execute_result"
    }
   ],
   "source": [
    "LI_count_t"
   ]
  },
  {
   "cell_type": "code",
   "execution_count": 43,
   "metadata": {},
   "outputs": [
    {
     "name": "stdout",
     "output_type": "stream",
     "text": [
      "tier 1 :\n",
      "Total number = 36402\n",
      "tier 2 :\n",
      "Total number = 72804\n",
      "tier 3 :\n",
      "Total number = 109206\n"
     ]
    }
   ],
   "source": [
    "check_t(LI_count_t)"
   ]
  },
  {
   "cell_type": "code",
   "execution_count": 44,
   "metadata": {},
   "outputs": [
    {
     "data": {
      "text/html": [
       "<div>\n",
       "<style scoped>\n",
       "    .dataframe tbody tr th:only-of-type {\n",
       "        vertical-align: middle;\n",
       "    }\n",
       "\n",
       "    .dataframe tbody tr th {\n",
       "        vertical-align: top;\n",
       "    }\n",
       "\n",
       "    .dataframe thead th {\n",
       "        text-align: right;\n",
       "    }\n",
       "</style>\n",
       "<table border=\"1\" class=\"dataframe\">\n",
       "  <thead>\n",
       "    <tr style=\"text-align: right;\">\n",
       "      <th></th>\n",
       "      <th>Method</th>\n",
       "      <th>1</th>\n",
       "      <th>2</th>\n",
       "      <th>3</th>\n",
       "    </tr>\n",
       "  </thead>\n",
       "  <tbody>\n",
       "    <tr>\n",
       "      <th>social</th>\n",
       "      <td>Last Interaction</td>\n",
       "      <td>0.862069</td>\n",
       "      <td>0.704225</td>\n",
       "      <td>1.388889</td>\n",
       "    </tr>\n",
       "    <tr>\n",
       "      <th>organic_search</th>\n",
       "      <td>Last Interaction</td>\n",
       "      <td>0.000000</td>\n",
       "      <td>0.000000</td>\n",
       "      <td>0.000000</td>\n",
       "    </tr>\n",
       "    <tr>\n",
       "      <th>referral</th>\n",
       "      <td>Last Interaction</td>\n",
       "      <td>50.000000</td>\n",
       "      <td>50.000000</td>\n",
       "      <td>10.000000</td>\n",
       "    </tr>\n",
       "    <tr>\n",
       "      <th>email</th>\n",
       "      <td>Last Interaction</td>\n",
       "      <td>0.769231</td>\n",
       "      <td>1.470588</td>\n",
       "      <td>0.833333</td>\n",
       "    </tr>\n",
       "    <tr>\n",
       "      <th>paid_search</th>\n",
       "      <td>Last Interaction</td>\n",
       "      <td>25.000000</td>\n",
       "      <td>NaN</td>\n",
       "      <td>8.333333</td>\n",
       "    </tr>\n",
       "    <tr>\n",
       "      <th>display</th>\n",
       "      <td>Last Interaction</td>\n",
       "      <td>0.694444</td>\n",
       "      <td>0.574713</td>\n",
       "      <td>3.125000</td>\n",
       "    </tr>\n",
       "    <tr>\n",
       "      <th>direct</th>\n",
       "      <td>Last Interaction</td>\n",
       "      <td>0.000000</td>\n",
       "      <td>0.000000</td>\n",
       "      <td>0.000000</td>\n",
       "    </tr>\n",
       "  </tbody>\n",
       "</table>\n",
       "</div>"
      ],
      "text/plain": [
       "                          Method          1          2          3\n",
       "social          Last Interaction   0.862069   0.704225   1.388889\n",
       "organic_search  Last Interaction   0.000000   0.000000   0.000000\n",
       "referral        Last Interaction  50.000000  50.000000  10.000000\n",
       "email           Last Interaction   0.769231   1.470588   0.833333\n",
       "paid_search     Last Interaction  25.000000        NaN   8.333333\n",
       "display         Last Interaction   0.694444   0.574713   3.125000\n",
       "direct          Last Interaction   0.000000   0.000000   0.000000"
      ]
     },
     "execution_count": 44,
     "metadata": {},
     "output_type": "execute_result"
    }
   ],
   "source": [
    "pd.DataFrame(data = Marginal_CAC_calc(LI_count_t))"
   ]
  },
  {
   "cell_type": "markdown",
   "metadata": {},
   "source": [
    "### Method -- First Interaction"
   ]
  },
  {
   "cell_type": "code",
   "execution_count": 45,
   "metadata": {},
   "outputs": [],
   "source": [
    "# Create a dictionary to count the number of True convert and False Convert for each channel\n",
    "\n",
    "FI_count_t = {'Method': 'First Interaction'}\n",
    "\n",
    "tier = [1,2,3]\n",
    "\n",
    "for i in tier:\n",
    "    FI_count_t[i] = dict()\n",
    "    for j in channel:\n",
    "        FI_count_t[i][j] = {'True':0, 'False':0}\n",
    "    \n",
    "    \n",
    "# Iterate over the dataframe to obtain the first interaction channel for each customer\n",
    "for row in df_c.itertuples():\n",
    "    tier = row[-1]\n",
    "    # For each customer, get the first interaction channel (not np.nan)\n",
    "    for i in range(2,7,1):\n",
    "        if not pd.isnull(row[i]):\n",
    "            # Since convert_TF is a boolean, it could be used directly in if-condition statement\n",
    "            if row[1]:\n",
    "                FI_count_t[tier][row[i]]['True'] +=1\n",
    "            else:\n",
    "                FI_count_t[tier][row[i]]['False'] +=1\n",
    "            break\n",
    "        "
   ]
  },
  {
   "cell_type": "code",
   "execution_count": 46,
   "metadata": {},
   "outputs": [
    {
     "data": {
      "text/plain": [
       "{'Method': 'First Interaction',\n",
       " 1: {'social': {'True': 71, 'False': 6173},\n",
       "  'organic_search': {'True': 113, 'False': 8382},\n",
       "  'referral': {'True': 2, 'False': 75},\n",
       "  'email': {'True': 67, 'False': 4171},\n",
       "  'paid_search': {'True': 2, 'False': 85},\n",
       "  'display': {'True': 92, 'False': 9829},\n",
       "  'direct': {'True': 94, 'False': 7246}},\n",
       " 2: {'social': {'True': 118, 'False': 11806},\n",
       "  'organic_search': {'True': 233, 'False': 17094},\n",
       "  'referral': {'True': 1, 'False': 216},\n",
       "  'email': {'True': 116, 'False': 8322},\n",
       "  'paid_search': {'True': 5, 'False': 224},\n",
       "  'display': {'True': 167, 'False': 19089},\n",
       "  'direct': {'True': 171, 'False': 15242}},\n",
       " 3: {'social': {'True': 151, 'False': 16717},\n",
       "  'organic_search': {'True': 329, 'False': 26370},\n",
       "  'referral': {'True': 7, 'False': 390},\n",
       "  'email': {'True': 174, 'False': 12733},\n",
       "  'paid_search': {'True': 5, 'False': 326},\n",
       "  'display': {'True': 175, 'False': 27824},\n",
       "  'direct': {'True': 285, 'False': 23720}}}"
      ]
     },
     "execution_count": 46,
     "metadata": {},
     "output_type": "execute_result"
    }
   ],
   "source": [
    "FI_count_t"
   ]
  },
  {
   "cell_type": "code",
   "execution_count": 47,
   "metadata": {},
   "outputs": [
    {
     "name": "stdout",
     "output_type": "stream",
     "text": [
      "tier 1 :\n",
      "Total number = 36402\n",
      "tier 2 :\n",
      "Total number = 72804\n",
      "tier 3 :\n",
      "Total number = 109206\n"
     ]
    }
   ],
   "source": [
    "check_t(FI_count_t)"
   ]
  },
  {
   "cell_type": "code",
   "execution_count": 48,
   "metadata": {},
   "outputs": [
    {
     "data": {
      "text/html": [
       "<div>\n",
       "<style scoped>\n",
       "    .dataframe tbody tr th:only-of-type {\n",
       "        vertical-align: middle;\n",
       "    }\n",
       "\n",
       "    .dataframe tbody tr th {\n",
       "        vertical-align: top;\n",
       "    }\n",
       "\n",
       "    .dataframe thead th {\n",
       "        text-align: right;\n",
       "    }\n",
       "</style>\n",
       "<table border=\"1\" class=\"dataframe\">\n",
       "  <thead>\n",
       "    <tr style=\"text-align: right;\">\n",
       "      <th></th>\n",
       "      <th>Method</th>\n",
       "      <th>1</th>\n",
       "      <th>2</th>\n",
       "      <th>3</th>\n",
       "    </tr>\n",
       "  </thead>\n",
       "  <tbody>\n",
       "    <tr>\n",
       "      <th>social</th>\n",
       "      <td>First Interaction</td>\n",
       "      <td>0.704225</td>\n",
       "      <td>1.063830</td>\n",
       "      <td>1.515152</td>\n",
       "    </tr>\n",
       "    <tr>\n",
       "      <th>organic_search</th>\n",
       "      <td>First Interaction</td>\n",
       "      <td>0.000000</td>\n",
       "      <td>0.000000</td>\n",
       "      <td>0.000000</td>\n",
       "    </tr>\n",
       "    <tr>\n",
       "      <th>referral</th>\n",
       "      <td>First Interaction</td>\n",
       "      <td>25.000000</td>\n",
       "      <td>-50.000000</td>\n",
       "      <td>8.333333</td>\n",
       "    </tr>\n",
       "    <tr>\n",
       "      <th>email</th>\n",
       "      <td>First Interaction</td>\n",
       "      <td>0.746269</td>\n",
       "      <td>1.020408</td>\n",
       "      <td>0.862069</td>\n",
       "    </tr>\n",
       "    <tr>\n",
       "      <th>paid_search</th>\n",
       "      <td>First Interaction</td>\n",
       "      <td>25.000000</td>\n",
       "      <td>16.666667</td>\n",
       "      <td>NaN</td>\n",
       "    </tr>\n",
       "    <tr>\n",
       "      <th>display</th>\n",
       "      <td>First Interaction</td>\n",
       "      <td>0.543478</td>\n",
       "      <td>0.666667</td>\n",
       "      <td>6.250000</td>\n",
       "    </tr>\n",
       "    <tr>\n",
       "      <th>direct</th>\n",
       "      <td>First Interaction</td>\n",
       "      <td>0.000000</td>\n",
       "      <td>0.000000</td>\n",
       "      <td>0.000000</td>\n",
       "    </tr>\n",
       "  </tbody>\n",
       "</table>\n",
       "</div>"
      ],
      "text/plain": [
       "                           Method          1          2         3\n",
       "social          First Interaction   0.704225   1.063830  1.515152\n",
       "organic_search  First Interaction   0.000000   0.000000  0.000000\n",
       "referral        First Interaction  25.000000 -50.000000  8.333333\n",
       "email           First Interaction   0.746269   1.020408  0.862069\n",
       "paid_search     First Interaction  25.000000  16.666667       NaN\n",
       "display         First Interaction   0.543478   0.666667  6.250000\n",
       "direct          First Interaction   0.000000   0.000000  0.000000"
      ]
     },
     "execution_count": 48,
     "metadata": {},
     "output_type": "execute_result"
    }
   ],
   "source": [
    "pd.DataFrame(data = Marginal_CAC_calc(FI_count_t))"
   ]
  },
  {
   "cell_type": "markdown",
   "metadata": {},
   "source": [
    "### Method -- Position Based"
   ]
  },
  {
   "cell_type": "code",
   "execution_count": 49,
   "metadata": {},
   "outputs": [],
   "source": [
    "# Create a dictionary to count the number of True convert and False Convert for each channel\n",
    "\n",
    "PB_count_t = {'Method': 'Position Based'}\n",
    "\n",
    "tier = [1,2,3]\n",
    "\n",
    "for i in tier:\n",
    "    PB_count_t[i] = dict()\n",
    "    for j in channel:\n",
    "        PB_count_t[i][j] = {'True':0, 'False':0}\n",
    "    \n",
    "    \n",
    "# Iterate over the dataframe to obtain the first interaction channel for each customer\n",
    "for row in df_c.itertuples():\n",
    "    temp = []\n",
    "    tier = row[-1]\n",
    "    \n",
    "    # For each customer, get all channels used (not np.nan)\n",
    "    for i in range(2,7,1):\n",
    "        if not pd.isnull(row[i]):\n",
    "            temp.append(row[i])\n",
    "    \n",
    "    # One channel only situation\n",
    "    if len(temp) == 1:\n",
    "        if row[1]:\n",
    "            PB_count_t[tier][temp[0]]['True'] += 1\n",
    "        else:\n",
    "            PB_count_t[tier][temp[0]]['False'] += 1\n",
    "    \n",
    "    # Two Channels situation\n",
    "    elif len(temp) == 2:\n",
    "        for i in temp:\n",
    "            if row[1]:\n",
    "                PB_count_t[tier][i]['True'] += 0.5\n",
    "            else:\n",
    "                PB_count_t[tier][i]['False'] += 0.5\n",
    "                \n",
    "    # More than two channels            \n",
    "    else:\n",
    "        # Get the first and last channel\n",
    "        first = temp[0]\n",
    "        last = temp[-1]\n",
    "        \n",
    "        # Calcluate the allocation for channels in between\n",
    "        avg_credit = 0.2/(len(temp) - 2)\n",
    "        \n",
    "        \n",
    "        if row[1]:\n",
    "            # Allocate 40% credit to first and last channel\n",
    "            PB_count_t[tier][first]['True'] += 0.4\n",
    "            PB_count_t[tier][last]['True'] += 0.4\n",
    "            \n",
    "            # Allocate the remaining 20& credit evenly to the middle channel(s)\n",
    "            for i in range(1, len(temp) - 1, 1):\n",
    "                PB_count_t[tier][temp[i]]['True'] += avg_credit\n",
    "        \n",
    "        else:\n",
    "            PB_count_t[tier][first]['False'] += 0.4\n",
    "            PB_count_t[tier][last]['False'] += 0.4\n",
    "            for i in range(1, len(temp) - 1, 1):\n",
    "                PB_count_t[tier][temp[i]]['False'] += avg_credit"
   ]
  },
  {
   "cell_type": "code",
   "execution_count": 50,
   "metadata": {},
   "outputs": [
    {
     "data": {
      "text/plain": [
       "{'Method': 'Position Based',\n",
       " 1: {'social': {'True': 65.83333333333336, 'False': 6072.199999999012},\n",
       "  'organic_search': {'True': 118.10000000000032, 'False': 8320.766666664653},\n",
       "  'referral': {'True': 1.4, 'False': 79.56666666666679},\n",
       "  'email': {'True': 64.53333333333333, 'False': 4189.333333333376},\n",
       "  'paid_search': {'True': 2.033333333333333, 'False': 86.63333333333351},\n",
       "  'display': {'True': 83.40000000000012, 'False': 9903.799999999052},\n",
       "  'direct': {'True': 105.70000000000013, 'False': 7308.699999998749}},\n",
       " 2: {'social': {'True': 126.23333333333368, 'False': 11698.066666665964},\n",
       "  'organic_search': {'True': 226.7666666666671, 'False': 17045.533333333497},\n",
       "  'referral': {'True': 2.1, 'False': 211.2333333333339},\n",
       "  'email': {'True': 110.73333333333366, 'False': 8329.166666664732},\n",
       "  'paid_search': {'True': 3.2666666666666666, 'False': 216.26666666666713},\n",
       "  'display': {'True': 158.30000000000044, 'False': 19196.633333336806},\n",
       "  'direct': {'True': 183.6000000000003, 'False': 15296.099999999591}},\n",
       " 3: {'social': {'True': 157.23333333333372, 'False': 16681.933333334466},\n",
       "  'organic_search': {'True': 324.16666666666504, 'False': 26308.93333334877},\n",
       "  'referral': {'True': 6.800000000000001, 'False': 375.366666666663},\n",
       "  'email': {'True': 165.3000000000003, 'False': 12835.666666666017},\n",
       "  'paid_search': {'True': 5.933333333333334, 'False': 359.8666666666635},\n",
       "  'display': {'True': 175.00000000000037, 'False': 27796.300000014133},\n",
       "  'direct': {'True': 291.56666666666604, 'False': 23721.933333344936}}}"
      ]
     },
     "execution_count": 50,
     "metadata": {},
     "output_type": "execute_result"
    }
   ],
   "source": [
    "PB_count_t"
   ]
  },
  {
   "cell_type": "code",
   "execution_count": 51,
   "metadata": {},
   "outputs": [
    {
     "name": "stdout",
     "output_type": "stream",
     "text": [
      "tier 1 :\n",
      "Total number = 36402\n",
      "tier 2 :\n",
      "Total number = 72804\n",
      "tier 3 :\n",
      "Total number = 109206\n"
     ]
    }
   ],
   "source": [
    "check_t(PB_count_t)"
   ]
  },
  {
   "cell_type": "code",
   "execution_count": 52,
   "metadata": {},
   "outputs": [
    {
     "data": {
      "text/html": [
       "<div>\n",
       "<style scoped>\n",
       "    .dataframe tbody tr th:only-of-type {\n",
       "        vertical-align: middle;\n",
       "    }\n",
       "\n",
       "    .dataframe tbody tr th {\n",
       "        vertical-align: top;\n",
       "    }\n",
       "\n",
       "    .dataframe thead th {\n",
       "        text-align: right;\n",
       "    }\n",
       "</style>\n",
       "<table border=\"1\" class=\"dataframe\">\n",
       "  <thead>\n",
       "    <tr style=\"text-align: right;\">\n",
       "      <th></th>\n",
       "      <th>Method</th>\n",
       "      <th>1</th>\n",
       "      <th>2</th>\n",
       "      <th>3</th>\n",
       "    </tr>\n",
       "  </thead>\n",
       "  <tbody>\n",
       "    <tr>\n",
       "      <th>social</th>\n",
       "      <td>Position Based</td>\n",
       "      <td>0.759494</td>\n",
       "      <td>0.827815</td>\n",
       "      <td>1.612903</td>\n",
       "    </tr>\n",
       "    <tr>\n",
       "      <th>organic_search</th>\n",
       "      <td>Position Based</td>\n",
       "      <td>0.000000</td>\n",
       "      <td>0.000000</td>\n",
       "      <td>0.000000</td>\n",
       "    </tr>\n",
       "    <tr>\n",
       "      <th>referral</th>\n",
       "      <td>Position Based</td>\n",
       "      <td>35.714286</td>\n",
       "      <td>71.428571</td>\n",
       "      <td>10.638298</td>\n",
       "    </tr>\n",
       "    <tr>\n",
       "      <th>email</th>\n",
       "      <td>Position Based</td>\n",
       "      <td>0.774793</td>\n",
       "      <td>1.082251</td>\n",
       "      <td>0.916310</td>\n",
       "    </tr>\n",
       "    <tr>\n",
       "      <th>paid_search</th>\n",
       "      <td>Position Based</td>\n",
       "      <td>24.590164</td>\n",
       "      <td>40.540541</td>\n",
       "      <td>18.750000</td>\n",
       "    </tr>\n",
       "    <tr>\n",
       "      <th>display</th>\n",
       "      <td>Position Based</td>\n",
       "      <td>0.599520</td>\n",
       "      <td>0.667557</td>\n",
       "      <td>2.994012</td>\n",
       "    </tr>\n",
       "    <tr>\n",
       "      <th>direct</th>\n",
       "      <td>Position Based</td>\n",
       "      <td>0.000000</td>\n",
       "      <td>0.000000</td>\n",
       "      <td>0.000000</td>\n",
       "    </tr>\n",
       "  </tbody>\n",
       "</table>\n",
       "</div>"
      ],
      "text/plain": [
       "                        Method          1          2          3\n",
       "social          Position Based   0.759494   0.827815   1.612903\n",
       "organic_search  Position Based   0.000000   0.000000   0.000000\n",
       "referral        Position Based  35.714286  71.428571  10.638298\n",
       "email           Position Based   0.774793   1.082251   0.916310\n",
       "paid_search     Position Based  24.590164  40.540541  18.750000\n",
       "display         Position Based   0.599520   0.667557   2.994012\n",
       "direct          Position Based   0.000000   0.000000   0.000000"
      ]
     },
     "execution_count": 52,
     "metadata": {},
     "output_type": "execute_result"
    }
   ],
   "source": [
    "pd.DataFrame(data = Marginal_CAC_calc(PB_count_t))"
   ]
  },
  {
   "cell_type": "markdown",
   "metadata": {},
   "source": [
    "Next Step:\n",
    "\n",
    "1. Choose proper attribution method\n",
    "2. Make recommendation for next week's budget $250"
   ]
  },
  {
   "cell_type": "code",
   "execution_count": 67,
   "metadata": {},
   "outputs": [],
   "source": [
    "# Combine marginal CAC results (dataframes) to compare\n",
    "\n",
    "l = [LI_count_t, FI_count_t, LA_count_t, PB_count_t]\n",
    "\n",
    "frames = []\n",
    "\n",
    "\n",
    "for i in l:\n",
    "    frames.append(pd.DataFrame(data = Marginal_CAC_calc(i)))\n"
   ]
  },
  {
   "cell_type": "code",
   "execution_count": 68,
   "metadata": {},
   "outputs": [],
   "source": [
    "df_M_CAC = pd.concat(frames)"
   ]
  },
  {
   "cell_type": "code",
   "execution_count": 69,
   "metadata": {},
   "outputs": [],
   "source": [
    "df_M_CAC = df_M_CAC.reset_index()"
   ]
  },
  {
   "cell_type": "code",
   "execution_count": 70,
   "metadata": {},
   "outputs": [],
   "source": [
    "df_M_CAC.columns = ['Channel','Method', '1', '2', '3']"
   ]
  },
  {
   "cell_type": "code",
   "execution_count": 72,
   "metadata": {},
   "outputs": [],
   "source": [
    "df_M_CAC = df_M_CAC[['Method','Channel', '1', '2', '3']]"
   ]
  },
  {
   "cell_type": "code",
   "execution_count": 73,
   "metadata": {},
   "outputs": [
    {
     "data": {
      "text/html": [
       "<div>\n",
       "<style scoped>\n",
       "    .dataframe tbody tr th:only-of-type {\n",
       "        vertical-align: middle;\n",
       "    }\n",
       "\n",
       "    .dataframe tbody tr th {\n",
       "        vertical-align: top;\n",
       "    }\n",
       "\n",
       "    .dataframe thead th {\n",
       "        text-align: right;\n",
       "    }\n",
       "</style>\n",
       "<table border=\"1\" class=\"dataframe\">\n",
       "  <thead>\n",
       "    <tr style=\"text-align: right;\">\n",
       "      <th></th>\n",
       "      <th>Method</th>\n",
       "      <th>Channel</th>\n",
       "      <th>1</th>\n",
       "      <th>2</th>\n",
       "      <th>3</th>\n",
       "    </tr>\n",
       "  </thead>\n",
       "  <tbody>\n",
       "    <tr>\n",
       "      <th>0</th>\n",
       "      <td>Last Interaction</td>\n",
       "      <td>social</td>\n",
       "      <td>0.862069</td>\n",
       "      <td>0.704225</td>\n",
       "      <td>1.388889</td>\n",
       "    </tr>\n",
       "    <tr>\n",
       "      <th>1</th>\n",
       "      <td>Last Interaction</td>\n",
       "      <td>organic_search</td>\n",
       "      <td>0.000000</td>\n",
       "      <td>0.000000</td>\n",
       "      <td>0.000000</td>\n",
       "    </tr>\n",
       "    <tr>\n",
       "      <th>2</th>\n",
       "      <td>Last Interaction</td>\n",
       "      <td>referral</td>\n",
       "      <td>50.000000</td>\n",
       "      <td>50.000000</td>\n",
       "      <td>10.000000</td>\n",
       "    </tr>\n",
       "    <tr>\n",
       "      <th>3</th>\n",
       "      <td>Last Interaction</td>\n",
       "      <td>email</td>\n",
       "      <td>0.769231</td>\n",
       "      <td>1.470588</td>\n",
       "      <td>0.833333</td>\n",
       "    </tr>\n",
       "    <tr>\n",
       "      <th>4</th>\n",
       "      <td>Last Interaction</td>\n",
       "      <td>paid_search</td>\n",
       "      <td>25.000000</td>\n",
       "      <td>NaN</td>\n",
       "      <td>8.333333</td>\n",
       "    </tr>\n",
       "    <tr>\n",
       "      <th>5</th>\n",
       "      <td>Last Interaction</td>\n",
       "      <td>display</td>\n",
       "      <td>0.694444</td>\n",
       "      <td>0.574713</td>\n",
       "      <td>3.125000</td>\n",
       "    </tr>\n",
       "    <tr>\n",
       "      <th>6</th>\n",
       "      <td>Last Interaction</td>\n",
       "      <td>direct</td>\n",
       "      <td>0.000000</td>\n",
       "      <td>0.000000</td>\n",
       "      <td>0.000000</td>\n",
       "    </tr>\n",
       "    <tr>\n",
       "      <th>7</th>\n",
       "      <td>First Interaction</td>\n",
       "      <td>social</td>\n",
       "      <td>0.704225</td>\n",
       "      <td>1.063830</td>\n",
       "      <td>1.515152</td>\n",
       "    </tr>\n",
       "    <tr>\n",
       "      <th>8</th>\n",
       "      <td>First Interaction</td>\n",
       "      <td>organic_search</td>\n",
       "      <td>0.000000</td>\n",
       "      <td>0.000000</td>\n",
       "      <td>0.000000</td>\n",
       "    </tr>\n",
       "    <tr>\n",
       "      <th>9</th>\n",
       "      <td>First Interaction</td>\n",
       "      <td>referral</td>\n",
       "      <td>25.000000</td>\n",
       "      <td>-50.000000</td>\n",
       "      <td>8.333333</td>\n",
       "    </tr>\n",
       "    <tr>\n",
       "      <th>10</th>\n",
       "      <td>First Interaction</td>\n",
       "      <td>email</td>\n",
       "      <td>0.746269</td>\n",
       "      <td>1.020408</td>\n",
       "      <td>0.862069</td>\n",
       "    </tr>\n",
       "    <tr>\n",
       "      <th>11</th>\n",
       "      <td>First Interaction</td>\n",
       "      <td>paid_search</td>\n",
       "      <td>25.000000</td>\n",
       "      <td>16.666667</td>\n",
       "      <td>NaN</td>\n",
       "    </tr>\n",
       "    <tr>\n",
       "      <th>12</th>\n",
       "      <td>First Interaction</td>\n",
       "      <td>display</td>\n",
       "      <td>0.543478</td>\n",
       "      <td>0.666667</td>\n",
       "      <td>6.250000</td>\n",
       "    </tr>\n",
       "    <tr>\n",
       "      <th>13</th>\n",
       "      <td>First Interaction</td>\n",
       "      <td>direct</td>\n",
       "      <td>0.000000</td>\n",
       "      <td>0.000000</td>\n",
       "      <td>0.000000</td>\n",
       "    </tr>\n",
       "    <tr>\n",
       "      <th>14</th>\n",
       "      <td>Linear</td>\n",
       "      <td>social</td>\n",
       "      <td>0.729040</td>\n",
       "      <td>0.825991</td>\n",
       "      <td>1.897533</td>\n",
       "    </tr>\n",
       "    <tr>\n",
       "      <th>15</th>\n",
       "      <td>Linear</td>\n",
       "      <td>organic_search</td>\n",
       "      <td>0.000000</td>\n",
       "      <td>0.000000</td>\n",
       "      <td>0.000000</td>\n",
       "    </tr>\n",
       "    <tr>\n",
       "      <th>16</th>\n",
       "      <td>Linear</td>\n",
       "      <td>referral</td>\n",
       "      <td>37.500000</td>\n",
       "      <td>36.144578</td>\n",
       "      <td>14.218009</td>\n",
       "    </tr>\n",
       "    <tr>\n",
       "      <th>17</th>\n",
       "      <td>Linear</td>\n",
       "      <td>email</td>\n",
       "      <td>0.797236</td>\n",
       "      <td>1.016260</td>\n",
       "      <td>0.979112</td>\n",
       "    </tr>\n",
       "    <tr>\n",
       "      <th>18</th>\n",
       "      <td>Linear</td>\n",
       "      <td>paid_search</td>\n",
       "      <td>23.255814</td>\n",
       "      <td>54.545455</td>\n",
       "      <td>21.897810</td>\n",
       "    </tr>\n",
       "    <tr>\n",
       "      <th>19</th>\n",
       "      <td>Linear</td>\n",
       "      <td>display</td>\n",
       "      <td>0.581959</td>\n",
       "      <td>0.735835</td>\n",
       "      <td>2.172339</td>\n",
       "    </tr>\n",
       "    <tr>\n",
       "      <th>20</th>\n",
       "      <td>Linear</td>\n",
       "      <td>direct</td>\n",
       "      <td>0.000000</td>\n",
       "      <td>0.000000</td>\n",
       "      <td>0.000000</td>\n",
       "    </tr>\n",
       "    <tr>\n",
       "      <th>21</th>\n",
       "      <td>Position Based</td>\n",
       "      <td>social</td>\n",
       "      <td>0.759494</td>\n",
       "      <td>0.827815</td>\n",
       "      <td>1.612903</td>\n",
       "    </tr>\n",
       "    <tr>\n",
       "      <th>22</th>\n",
       "      <td>Position Based</td>\n",
       "      <td>organic_search</td>\n",
       "      <td>0.000000</td>\n",
       "      <td>0.000000</td>\n",
       "      <td>0.000000</td>\n",
       "    </tr>\n",
       "    <tr>\n",
       "      <th>23</th>\n",
       "      <td>Position Based</td>\n",
       "      <td>referral</td>\n",
       "      <td>35.714286</td>\n",
       "      <td>71.428571</td>\n",
       "      <td>10.638298</td>\n",
       "    </tr>\n",
       "    <tr>\n",
       "      <th>24</th>\n",
       "      <td>Position Based</td>\n",
       "      <td>email</td>\n",
       "      <td>0.774793</td>\n",
       "      <td>1.082251</td>\n",
       "      <td>0.916310</td>\n",
       "    </tr>\n",
       "    <tr>\n",
       "      <th>25</th>\n",
       "      <td>Position Based</td>\n",
       "      <td>paid_search</td>\n",
       "      <td>24.590164</td>\n",
       "      <td>40.540541</td>\n",
       "      <td>18.750000</td>\n",
       "    </tr>\n",
       "    <tr>\n",
       "      <th>26</th>\n",
       "      <td>Position Based</td>\n",
       "      <td>display</td>\n",
       "      <td>0.599520</td>\n",
       "      <td>0.667557</td>\n",
       "      <td>2.994012</td>\n",
       "    </tr>\n",
       "    <tr>\n",
       "      <th>27</th>\n",
       "      <td>Position Based</td>\n",
       "      <td>direct</td>\n",
       "      <td>0.000000</td>\n",
       "      <td>0.000000</td>\n",
       "      <td>0.000000</td>\n",
       "    </tr>\n",
       "  </tbody>\n",
       "</table>\n",
       "</div>"
      ],
      "text/plain": [
       "               Method         Channel          1          2          3\n",
       "0    Last Interaction          social   0.862069   0.704225   1.388889\n",
       "1    Last Interaction  organic_search   0.000000   0.000000   0.000000\n",
       "2    Last Interaction        referral  50.000000  50.000000  10.000000\n",
       "3    Last Interaction           email   0.769231   1.470588   0.833333\n",
       "4    Last Interaction     paid_search  25.000000        NaN   8.333333\n",
       "5    Last Interaction         display   0.694444   0.574713   3.125000\n",
       "6    Last Interaction          direct   0.000000   0.000000   0.000000\n",
       "7   First Interaction          social   0.704225   1.063830   1.515152\n",
       "8   First Interaction  organic_search   0.000000   0.000000   0.000000\n",
       "9   First Interaction        referral  25.000000 -50.000000   8.333333\n",
       "10  First Interaction           email   0.746269   1.020408   0.862069\n",
       "11  First Interaction     paid_search  25.000000  16.666667        NaN\n",
       "12  First Interaction         display   0.543478   0.666667   6.250000\n",
       "13  First Interaction          direct   0.000000   0.000000   0.000000\n",
       "14             Linear          social   0.729040   0.825991   1.897533\n",
       "15             Linear  organic_search   0.000000   0.000000   0.000000\n",
       "16             Linear        referral  37.500000  36.144578  14.218009\n",
       "17             Linear           email   0.797236   1.016260   0.979112\n",
       "18             Linear     paid_search  23.255814  54.545455  21.897810\n",
       "19             Linear         display   0.581959   0.735835   2.172339\n",
       "20             Linear          direct   0.000000   0.000000   0.000000\n",
       "21     Position Based          social   0.759494   0.827815   1.612903\n",
       "22     Position Based  organic_search   0.000000   0.000000   0.000000\n",
       "23     Position Based        referral  35.714286  71.428571  10.638298\n",
       "24     Position Based           email   0.774793   1.082251   0.916310\n",
       "25     Position Based     paid_search  24.590164  40.540541  18.750000\n",
       "26     Position Based         display   0.599520   0.667557   2.994012\n",
       "27     Position Based          direct   0.000000   0.000000   0.000000"
      ]
     },
     "execution_count": 73,
     "metadata": {},
     "output_type": "execute_result"
    }
   ],
   "source": [
    "df_M_CAC"
   ]
  },
  {
   "cell_type": "code",
   "execution_count": 77,
   "metadata": {},
   "outputs": [
    {
     "data": {
      "text/html": [
       "<div>\n",
       "<style scoped>\n",
       "    .dataframe tbody tr th:only-of-type {\n",
       "        vertical-align: middle;\n",
       "    }\n",
       "\n",
       "    .dataframe tbody tr th {\n",
       "        vertical-align: top;\n",
       "    }\n",
       "\n",
       "    .dataframe thead th {\n",
       "        text-align: right;\n",
       "    }\n",
       "</style>\n",
       "<table border=\"1\" class=\"dataframe\">\n",
       "  <thead>\n",
       "    <tr style=\"text-align: right;\">\n",
       "      <th></th>\n",
       "      <th>Method</th>\n",
       "      <th>Channel</th>\n",
       "      <th>1</th>\n",
       "      <th>2</th>\n",
       "      <th>3</th>\n",
       "    </tr>\n",
       "  </thead>\n",
       "  <tbody>\n",
       "    <tr>\n",
       "      <th>13</th>\n",
       "      <td>First Interaction</td>\n",
       "      <td>direct</td>\n",
       "      <td>0.000000</td>\n",
       "      <td>0.000000</td>\n",
       "      <td>0.000000</td>\n",
       "    </tr>\n",
       "    <tr>\n",
       "      <th>6</th>\n",
       "      <td>Last Interaction</td>\n",
       "      <td>direct</td>\n",
       "      <td>0.000000</td>\n",
       "      <td>0.000000</td>\n",
       "      <td>0.000000</td>\n",
       "    </tr>\n",
       "    <tr>\n",
       "      <th>20</th>\n",
       "      <td>Linear</td>\n",
       "      <td>direct</td>\n",
       "      <td>0.000000</td>\n",
       "      <td>0.000000</td>\n",
       "      <td>0.000000</td>\n",
       "    </tr>\n",
       "    <tr>\n",
       "      <th>27</th>\n",
       "      <td>Position Based</td>\n",
       "      <td>direct</td>\n",
       "      <td>0.000000</td>\n",
       "      <td>0.000000</td>\n",
       "      <td>0.000000</td>\n",
       "    </tr>\n",
       "    <tr>\n",
       "      <th>12</th>\n",
       "      <td>First Interaction</td>\n",
       "      <td>display</td>\n",
       "      <td>0.543478</td>\n",
       "      <td>0.666667</td>\n",
       "      <td>6.250000</td>\n",
       "    </tr>\n",
       "    <tr>\n",
       "      <th>5</th>\n",
       "      <td>Last Interaction</td>\n",
       "      <td>display</td>\n",
       "      <td>0.694444</td>\n",
       "      <td>0.574713</td>\n",
       "      <td>3.125000</td>\n",
       "    </tr>\n",
       "    <tr>\n",
       "      <th>19</th>\n",
       "      <td>Linear</td>\n",
       "      <td>display</td>\n",
       "      <td>0.581959</td>\n",
       "      <td>0.735835</td>\n",
       "      <td>2.172339</td>\n",
       "    </tr>\n",
       "    <tr>\n",
       "      <th>26</th>\n",
       "      <td>Position Based</td>\n",
       "      <td>display</td>\n",
       "      <td>0.599520</td>\n",
       "      <td>0.667557</td>\n",
       "      <td>2.994012</td>\n",
       "    </tr>\n",
       "    <tr>\n",
       "      <th>10</th>\n",
       "      <td>First Interaction</td>\n",
       "      <td>email</td>\n",
       "      <td>0.746269</td>\n",
       "      <td>1.020408</td>\n",
       "      <td>0.862069</td>\n",
       "    </tr>\n",
       "    <tr>\n",
       "      <th>3</th>\n",
       "      <td>Last Interaction</td>\n",
       "      <td>email</td>\n",
       "      <td>0.769231</td>\n",
       "      <td>1.470588</td>\n",
       "      <td>0.833333</td>\n",
       "    </tr>\n",
       "    <tr>\n",
       "      <th>17</th>\n",
       "      <td>Linear</td>\n",
       "      <td>email</td>\n",
       "      <td>0.797236</td>\n",
       "      <td>1.016260</td>\n",
       "      <td>0.979112</td>\n",
       "    </tr>\n",
       "    <tr>\n",
       "      <th>24</th>\n",
       "      <td>Position Based</td>\n",
       "      <td>email</td>\n",
       "      <td>0.774793</td>\n",
       "      <td>1.082251</td>\n",
       "      <td>0.916310</td>\n",
       "    </tr>\n",
       "    <tr>\n",
       "      <th>8</th>\n",
       "      <td>First Interaction</td>\n",
       "      <td>organic_search</td>\n",
       "      <td>0.000000</td>\n",
       "      <td>0.000000</td>\n",
       "      <td>0.000000</td>\n",
       "    </tr>\n",
       "    <tr>\n",
       "      <th>1</th>\n",
       "      <td>Last Interaction</td>\n",
       "      <td>organic_search</td>\n",
       "      <td>0.000000</td>\n",
       "      <td>0.000000</td>\n",
       "      <td>0.000000</td>\n",
       "    </tr>\n",
       "    <tr>\n",
       "      <th>15</th>\n",
       "      <td>Linear</td>\n",
       "      <td>organic_search</td>\n",
       "      <td>0.000000</td>\n",
       "      <td>0.000000</td>\n",
       "      <td>0.000000</td>\n",
       "    </tr>\n",
       "    <tr>\n",
       "      <th>22</th>\n",
       "      <td>Position Based</td>\n",
       "      <td>organic_search</td>\n",
       "      <td>0.000000</td>\n",
       "      <td>0.000000</td>\n",
       "      <td>0.000000</td>\n",
       "    </tr>\n",
       "    <tr>\n",
       "      <th>11</th>\n",
       "      <td>First Interaction</td>\n",
       "      <td>paid_search</td>\n",
       "      <td>25.000000</td>\n",
       "      <td>16.666667</td>\n",
       "      <td>NaN</td>\n",
       "    </tr>\n",
       "    <tr>\n",
       "      <th>4</th>\n",
       "      <td>Last Interaction</td>\n",
       "      <td>paid_search</td>\n",
       "      <td>25.000000</td>\n",
       "      <td>NaN</td>\n",
       "      <td>8.333333</td>\n",
       "    </tr>\n",
       "    <tr>\n",
       "      <th>18</th>\n",
       "      <td>Linear</td>\n",
       "      <td>paid_search</td>\n",
       "      <td>23.255814</td>\n",
       "      <td>54.545455</td>\n",
       "      <td>21.897810</td>\n",
       "    </tr>\n",
       "    <tr>\n",
       "      <th>25</th>\n",
       "      <td>Position Based</td>\n",
       "      <td>paid_search</td>\n",
       "      <td>24.590164</td>\n",
       "      <td>40.540541</td>\n",
       "      <td>18.750000</td>\n",
       "    </tr>\n",
       "    <tr>\n",
       "      <th>9</th>\n",
       "      <td>First Interaction</td>\n",
       "      <td>referral</td>\n",
       "      <td>25.000000</td>\n",
       "      <td>-50.000000</td>\n",
       "      <td>8.333333</td>\n",
       "    </tr>\n",
       "    <tr>\n",
       "      <th>2</th>\n",
       "      <td>Last Interaction</td>\n",
       "      <td>referral</td>\n",
       "      <td>50.000000</td>\n",
       "      <td>50.000000</td>\n",
       "      <td>10.000000</td>\n",
       "    </tr>\n",
       "    <tr>\n",
       "      <th>16</th>\n",
       "      <td>Linear</td>\n",
       "      <td>referral</td>\n",
       "      <td>37.500000</td>\n",
       "      <td>36.144578</td>\n",
       "      <td>14.218009</td>\n",
       "    </tr>\n",
       "    <tr>\n",
       "      <th>23</th>\n",
       "      <td>Position Based</td>\n",
       "      <td>referral</td>\n",
       "      <td>35.714286</td>\n",
       "      <td>71.428571</td>\n",
       "      <td>10.638298</td>\n",
       "    </tr>\n",
       "    <tr>\n",
       "      <th>7</th>\n",
       "      <td>First Interaction</td>\n",
       "      <td>social</td>\n",
       "      <td>0.704225</td>\n",
       "      <td>1.063830</td>\n",
       "      <td>1.515152</td>\n",
       "    </tr>\n",
       "    <tr>\n",
       "      <th>0</th>\n",
       "      <td>Last Interaction</td>\n",
       "      <td>social</td>\n",
       "      <td>0.862069</td>\n",
       "      <td>0.704225</td>\n",
       "      <td>1.388889</td>\n",
       "    </tr>\n",
       "    <tr>\n",
       "      <th>14</th>\n",
       "      <td>Linear</td>\n",
       "      <td>social</td>\n",
       "      <td>0.729040</td>\n",
       "      <td>0.825991</td>\n",
       "      <td>1.897533</td>\n",
       "    </tr>\n",
       "    <tr>\n",
       "      <th>21</th>\n",
       "      <td>Position Based</td>\n",
       "      <td>social</td>\n",
       "      <td>0.759494</td>\n",
       "      <td>0.827815</td>\n",
       "      <td>1.612903</td>\n",
       "    </tr>\n",
       "  </tbody>\n",
       "</table>\n",
       "</div>"
      ],
      "text/plain": [
       "               Method         Channel          1          2          3\n",
       "13  First Interaction          direct   0.000000   0.000000   0.000000\n",
       "6    Last Interaction          direct   0.000000   0.000000   0.000000\n",
       "20             Linear          direct   0.000000   0.000000   0.000000\n",
       "27     Position Based          direct   0.000000   0.000000   0.000000\n",
       "12  First Interaction         display   0.543478   0.666667   6.250000\n",
       "5    Last Interaction         display   0.694444   0.574713   3.125000\n",
       "19             Linear         display   0.581959   0.735835   2.172339\n",
       "26     Position Based         display   0.599520   0.667557   2.994012\n",
       "10  First Interaction           email   0.746269   1.020408   0.862069\n",
       "3    Last Interaction           email   0.769231   1.470588   0.833333\n",
       "17             Linear           email   0.797236   1.016260   0.979112\n",
       "24     Position Based           email   0.774793   1.082251   0.916310\n",
       "8   First Interaction  organic_search   0.000000   0.000000   0.000000\n",
       "1    Last Interaction  organic_search   0.000000   0.000000   0.000000\n",
       "15             Linear  organic_search   0.000000   0.000000   0.000000\n",
       "22     Position Based  organic_search   0.000000   0.000000   0.000000\n",
       "11  First Interaction     paid_search  25.000000  16.666667        NaN\n",
       "4    Last Interaction     paid_search  25.000000        NaN   8.333333\n",
       "18             Linear     paid_search  23.255814  54.545455  21.897810\n",
       "25     Position Based     paid_search  24.590164  40.540541  18.750000\n",
       "9   First Interaction        referral  25.000000 -50.000000   8.333333\n",
       "2    Last Interaction        referral  50.000000  50.000000  10.000000\n",
       "16             Linear        referral  37.500000  36.144578  14.218009\n",
       "23     Position Based        referral  35.714286  71.428571  10.638298\n",
       "7   First Interaction          social   0.704225   1.063830   1.515152\n",
       "0    Last Interaction          social   0.862069   0.704225   1.388889\n",
       "14             Linear          social   0.729040   0.825991   1.897533\n",
       "21     Position Based          social   0.759494   0.827815   1.612903"
      ]
     },
     "execution_count": 77,
     "metadata": {},
     "output_type": "execute_result"
    }
   ],
   "source": [
    "# In case you want to compare the Marginal CAC for each method\n",
    "\n",
    "df_M_CAC.sort_values(['Channel', 'Method'])"
   ]
  },
  {
   "cell_type": "code",
   "execution_count": 78,
   "metadata": {},
   "outputs": [
    {
     "data": {
      "text/html": [
       "<div>\n",
       "<style scoped>\n",
       "    .dataframe tbody tr th:only-of-type {\n",
       "        vertical-align: middle;\n",
       "    }\n",
       "\n",
       "    .dataframe tbody tr th {\n",
       "        vertical-align: top;\n",
       "    }\n",
       "\n",
       "    .dataframe thead th {\n",
       "        text-align: right;\n",
       "    }\n",
       "</style>\n",
       "<table border=\"1\" class=\"dataframe\">\n",
       "  <thead>\n",
       "    <tr style=\"text-align: right;\">\n",
       "      <th></th>\n",
       "      <th>Method</th>\n",
       "      <th>Channel</th>\n",
       "      <th>1</th>\n",
       "      <th>2</th>\n",
       "      <th>3</th>\n",
       "    </tr>\n",
       "  </thead>\n",
       "  <tbody>\n",
       "    <tr>\n",
       "      <th>21</th>\n",
       "      <td>Position Based</td>\n",
       "      <td>social</td>\n",
       "      <td>0.759494</td>\n",
       "      <td>0.827815</td>\n",
       "      <td>1.612903</td>\n",
       "    </tr>\n",
       "    <tr>\n",
       "      <th>22</th>\n",
       "      <td>Position Based</td>\n",
       "      <td>organic_search</td>\n",
       "      <td>0.000000</td>\n",
       "      <td>0.000000</td>\n",
       "      <td>0.000000</td>\n",
       "    </tr>\n",
       "    <tr>\n",
       "      <th>23</th>\n",
       "      <td>Position Based</td>\n",
       "      <td>referral</td>\n",
       "      <td>35.714286</td>\n",
       "      <td>71.428571</td>\n",
       "      <td>10.638298</td>\n",
       "    </tr>\n",
       "    <tr>\n",
       "      <th>24</th>\n",
       "      <td>Position Based</td>\n",
       "      <td>email</td>\n",
       "      <td>0.774793</td>\n",
       "      <td>1.082251</td>\n",
       "      <td>0.916310</td>\n",
       "    </tr>\n",
       "    <tr>\n",
       "      <th>25</th>\n",
       "      <td>Position Based</td>\n",
       "      <td>paid_search</td>\n",
       "      <td>24.590164</td>\n",
       "      <td>40.540541</td>\n",
       "      <td>18.750000</td>\n",
       "    </tr>\n",
       "    <tr>\n",
       "      <th>26</th>\n",
       "      <td>Position Based</td>\n",
       "      <td>display</td>\n",
       "      <td>0.599520</td>\n",
       "      <td>0.667557</td>\n",
       "      <td>2.994012</td>\n",
       "    </tr>\n",
       "    <tr>\n",
       "      <th>27</th>\n",
       "      <td>Position Based</td>\n",
       "      <td>direct</td>\n",
       "      <td>0.000000</td>\n",
       "      <td>0.000000</td>\n",
       "      <td>0.000000</td>\n",
       "    </tr>\n",
       "  </tbody>\n",
       "</table>\n",
       "</div>"
      ],
      "text/plain": [
       "            Method         Channel          1          2          3\n",
       "21  Position Based          social   0.759494   0.827815   1.612903\n",
       "22  Position Based  organic_search   0.000000   0.000000   0.000000\n",
       "23  Position Based        referral  35.714286  71.428571  10.638298\n",
       "24  Position Based           email   0.774793   1.082251   0.916310\n",
       "25  Position Based     paid_search  24.590164  40.540541  18.750000\n",
       "26  Position Based         display   0.599520   0.667557   2.994012\n",
       "27  Position Based          direct   0.000000   0.000000   0.000000"
      ]
     },
     "execution_count": 78,
     "metadata": {},
     "output_type": "execute_result"
    }
   ],
   "source": [
    "# After our discussion, we dicided to use position based allocation method\n",
    "\n",
    "df_M_CAC_PB = df_M_CAC.loc[df_M_CAC['Method'] == 'Position Based']\n",
    "\n",
    "df_M_CAC_PB"
   ]
  },
  {
   "cell_type": "code",
   "execution_count": 79,
   "metadata": {},
   "outputs": [],
   "source": [
    "# For the budget allocation optimization, we do not need to consider organic_search and direct due to the no-cost nature of these channel\n",
    "\n",
    "df_M_CAC_PB = df_M_CAC_PB.loc[(df_M_CAC_PB['Channel'] != 'organic_search') & (df_M_CAC_PB['Channel'] != 'direct')]"
   ]
  },
  {
   "cell_type": "code",
   "execution_count": 80,
   "metadata": {
    "scrolled": true
   },
   "outputs": [
    {
     "data": {
      "text/html": [
       "<div>\n",
       "<style scoped>\n",
       "    .dataframe tbody tr th:only-of-type {\n",
       "        vertical-align: middle;\n",
       "    }\n",
       "\n",
       "    .dataframe tbody tr th {\n",
       "        vertical-align: top;\n",
       "    }\n",
       "\n",
       "    .dataframe thead th {\n",
       "        text-align: right;\n",
       "    }\n",
       "</style>\n",
       "<table border=\"1\" class=\"dataframe\">\n",
       "  <thead>\n",
       "    <tr style=\"text-align: right;\">\n",
       "      <th></th>\n",
       "      <th>Method</th>\n",
       "      <th>Channel</th>\n",
       "      <th>1</th>\n",
       "      <th>2</th>\n",
       "      <th>3</th>\n",
       "    </tr>\n",
       "  </thead>\n",
       "  <tbody>\n",
       "    <tr>\n",
       "      <th>21</th>\n",
       "      <td>Position Based</td>\n",
       "      <td>social</td>\n",
       "      <td>0.759494</td>\n",
       "      <td>0.827815</td>\n",
       "      <td>1.612903</td>\n",
       "    </tr>\n",
       "    <tr>\n",
       "      <th>23</th>\n",
       "      <td>Position Based</td>\n",
       "      <td>referral</td>\n",
       "      <td>35.714286</td>\n",
       "      <td>71.428571</td>\n",
       "      <td>10.638298</td>\n",
       "    </tr>\n",
       "    <tr>\n",
       "      <th>24</th>\n",
       "      <td>Position Based</td>\n",
       "      <td>email</td>\n",
       "      <td>0.774793</td>\n",
       "      <td>1.082251</td>\n",
       "      <td>0.916310</td>\n",
       "    </tr>\n",
       "    <tr>\n",
       "      <th>25</th>\n",
       "      <td>Position Based</td>\n",
       "      <td>paid_search</td>\n",
       "      <td>24.590164</td>\n",
       "      <td>40.540541</td>\n",
       "      <td>18.750000</td>\n",
       "    </tr>\n",
       "    <tr>\n",
       "      <th>26</th>\n",
       "      <td>Position Based</td>\n",
       "      <td>display</td>\n",
       "      <td>0.599520</td>\n",
       "      <td>0.667557</td>\n",
       "      <td>2.994012</td>\n",
       "    </tr>\n",
       "  </tbody>\n",
       "</table>\n",
       "</div>"
      ],
      "text/plain": [
       "            Method      Channel          1          2          3\n",
       "21  Position Based       social   0.759494   0.827815   1.612903\n",
       "23  Position Based     referral  35.714286  71.428571  10.638298\n",
       "24  Position Based        email   0.774793   1.082251   0.916310\n",
       "25  Position Based  paid_search  24.590164  40.540541  18.750000\n",
       "26  Position Based      display   0.599520   0.667557   2.994012"
      ]
     },
     "execution_count": 80,
     "metadata": {},
     "output_type": "execute_result"
    }
   ],
   "source": [
    "df_M_CAC_PB"
   ]
  },
  {
   "cell_type": "code",
   "execution_count": 91,
   "metadata": {},
   "outputs": [
    {
     "data": {
      "text/plain": [
       "['social', 'referral', 'email', 'paid_search', 'display']"
      ]
     },
     "execution_count": 91,
     "metadata": {},
     "output_type": "execute_result"
    }
   ],
   "source": [
    "list(df_M_CAC_PB['Channel'])"
   ]
  },
  {
   "cell_type": "code",
   "execution_count": 93,
   "metadata": {},
   "outputs": [
    {
     "data": {
      "text/plain": [
       "[('social', 0.75949367),\n",
       " ('referral', 35.71428571),\n",
       " ('email', 0.77479339),\n",
       " ('paid_search', 24.59016393),\n",
       " ('display', 0.59952038)]"
      ]
     },
     "execution_count": 93,
     "metadata": {},
     "output_type": "execute_result"
    }
   ],
   "source": [
    "list(df_M_CAC_PB[['Channel', '1']].to_records(index = False))"
   ]
  },
  {
   "cell_type": "code",
   "execution_count": 111,
   "metadata": {},
   "outputs": [],
   "source": [
    "d = {}\n",
    "\n",
    "\n",
    "for i in df_M_CAC_PB['Channel']:\n",
    "    d[i] = []\n",
    "    for j in range(1,4,1):\n",
    "        d[i].append(float(df_M_CAC_PB.loc[df_M_CAC_PB['Channel'] == i][str(j)]))\n",
    "    "
   ]
  },
  {
   "cell_type": "code",
   "execution_count": 112,
   "metadata": {},
   "outputs": [
    {
     "data": {
      "text/plain": [
       "{'social': [0.7594936708860757, 0.8278145695364195, 1.6129032258064493],\n",
       " 'referral': [35.714285714285715, 71.42857142857142, 10.638297872340424],\n",
       " 'email': [0.7747933884297521, 1.0822510822510745, 0.9163103237629816],\n",
       " 'paid_search': [24.59016393442623, 40.54054054054054, 18.749999999999996],\n",
       " 'display': [0.5995203836930447, 0.6675567423230946, 2.9940119760479162]}"
      ]
     },
     "execution_count": 112,
     "metadata": {},
     "output_type": "execute_result"
    }
   ],
   "source": [
    "d"
   ]
  },
  {
   "cell_type": "code",
   "execution_count": 141,
   "metadata": {},
   "outputs": [],
   "source": [
    "# Given the $250 budget in total and $50 increment in marketing cost, choice could be made\n",
    "\n",
    "# Sequential choice -- make 5 choices in order\n",
    "\n",
    "\n",
    "def squential(df):\n",
    "    \n",
    "    o_channel = list(df['Channel'])\n",
    "    \n",
    "    # Create data in sequence\n",
    "    d = {}\n",
    "    \n",
    "    # Create location tracking dict\n",
    "    current = {}\n",
    "    \n",
    "    # Values to compare\n",
    "    init = {}\n",
    "    \n",
    "    # Input data at the initial point -- start from tier 1 \n",
    "    for i in o_channel:\n",
    "        d[i] = []\n",
    "        current[i] = 0\n",
    "        init[i] = float(df.loc[df['Channel'] == i]['1'])\n",
    "        for j in range(1,4,1):\n",
    "            d[i].append(float(df.loc[df['Channel'] == i][str(j)]))    \n",
    "    \n",
    "    \n",
    "    # Store choices for each $50  \n",
    "    choice = []\n",
    "    \n",
    "    count = 0\n",
    "\n",
    "    \n",
    "    while count <= 4:\n",
    "        \n",
    "        Min = 999999\n",
    "        cha = ''\n",
    "\n",
    "        for item in init.items():\n",
    "            chan = item[0]\n",
    "            M_cost = item[1]\n",
    "\n",
    "            if M_cost < Min:\n",
    "                Min = M_cost\n",
    "                cha = chan\n",
    "        \n",
    "        # Append the choice of this $50 marketing budget\n",
    "        choice.append((cha, Min))\n",
    "        \n",
    "        # Change the init value to M_CAC for next tier\n",
    "        current[cha] +=1\n",
    "        \n",
    "        for item in current.items():\n",
    "            init[item[0]] = d[item[0]][item[1]]\n",
    "        \n",
    "        count +=1\n",
    "                \n",
    "    return choice\n"
   ]
  },
  {
   "cell_type": "code",
   "execution_count": 142,
   "metadata": {},
   "outputs": [
    {
     "data": {
      "text/plain": [
       "[('display', 0.5995203836930447),\n",
       " ('display', 0.6675567423230946),\n",
       " ('social', 0.7594936708860757),\n",
       " ('email', 0.7747933884297521),\n",
       " ('social', 0.8278145695364195)]"
      ]
     },
     "execution_count": 142,
     "metadata": {},
     "output_type": "execute_result"
    }
   ],
   "source": [
    "squential(df_M_CAC_PB)"
   ]
  },
  {
   "cell_type": "code",
   "execution_count": 275,
   "metadata": {},
   "outputs": [],
   "source": [
    "# One-time choice -- make 1 choices for each $50 at same time\n",
    "\n",
    "from itertools import combinations\n",
    "\n",
    "\n",
    "def one_time(df):\n",
    "    \n",
    "    o_channel = list(df['Channel'])\n",
    "    \n",
    "    # Create data in sequence\n",
    "    d = {}\n",
    "    \n",
    "    for i in o_channel:\n",
    "        d[i] = list()\n",
    "        start = 1\n",
    "        \n",
    "        while start <= 3:\n",
    "            \n",
    "            if start == 1:\n",
    "                d[i].append([float(df.loc[df['Channel'] == i][str(start)])])\n",
    "                \n",
    "            else:\n",
    "                d[i].append(d[i][-1] + [float(df.loc[df['Channel'] == i][str(start)])])\n",
    "            \n",
    "            start +=1\n",
    "    \n",
    "    \n",
    "    # Need total of 5 boxes\n",
    "    # Choose minimum of 2 channels; maximum of 5 channels\n",
    "    \n",
    "    all_comb = []\n",
    "    \n",
    "    # Choose 2 channels\n",
    "    for i in combinations(o_channel, 2):\n",
    "        all_comb.append(((i[0], i[1]), (d[i[0]][1], d[i[1]][2])))\n",
    "        all_comb.append(((i[0], i[1]), (d[i[0]][2], d[i[1]][1])))\n",
    "        #print(i)\n",
    "    \n",
    "    # Choose 3 channels\n",
    "    for i in combinations(o_channel, 3):\n",
    "        # Under each choice on channel, possible combinations are (1,2,2), (2,1,2), (2,2,1)\n",
    "        all_comb.append(((i[0], i[1], i[2]), (d[i[0]][0], d[i[1]][1], d[i[2]][1])))\n",
    "        all_comb.append(((i[0], i[1], i[2]), (d[i[0]][1], d[i[1]][0], d[i[2]][1])))\n",
    "        all_comb.append(((i[0], i[1], i[2]), (d[i[0]][1], d[i[1]][1], d[i[2]][0])))\n",
    "    \n",
    "    # Choose 4 channels\n",
    "    for i in combinations(o_channel, 4):\n",
    "        # Under each choice on channel, possible combinations are (1,1,1,2), (1,1,2,1), (1,2,1,1), (2,1,1,1)\n",
    "        all_comb.append(((i[0], i[1], i[2], i[3]), (d[i[0]][0], d[i[1]][0], d[i[2]][0], d[i[3]][1])))\n",
    "        all_comb.append(((i[0], i[1], i[2], i[3]), (d[i[0]][0], d[i[1]][0], d[i[2]][1], d[i[3]][0])))\n",
    "        all_comb.append(((i[0], i[1], i[2], i[3]), (d[i[0]][0], d[i[1]][1], d[i[2]][0], d[i[3]][0])))\n",
    "        all_comb.append(((i[0], i[1], i[2], i[3]), (d[i[0]][1], d[i[1]][0], d[i[2]][0], d[i[3]][0])))\n",
    "        \n",
    "    # Choose 5 channels\n",
    "    \n",
    "    for i in combinations(o_channel, 5):\n",
    "        all_comb.append(((i[0], i[1], i[2], i[3], i[4]), (d[i[0]][0], d[i[1]][0], d[i[2]][0], d[i[3]][0], d[i[4]][0])))\n",
    "    \n",
    "    \n",
    "    # find the minimum M_CAC \n",
    "    Min = 999999\n",
    "    result = {}\n",
    "    u_c = []\n",
    "\n",
    "    # Iterate over all possible combinations\n",
    "    for option in all_comb:\n",
    "        cha = option[0]\n",
    "        temp = []\n",
    "        temp_c = {}\n",
    "        \n",
    "        # Record the choice of channel and the investment increments for each combinations\n",
    "        for i in range(len(cha)):\n",
    "            temp_c[cha[i]] = len(option[1][i])\n",
    "        \n",
    "        # Calculate the Total Marginal CAC for this combination\n",
    "        for j in option[1]:\n",
    "            temp += j\n",
    "        \n",
    "        M_CAC = sum(temp)\n",
    "        \n",
    "        # See whether if this is the global minimum\n",
    "        if M_CAC < Min:\n",
    "            Min = M_CAC\n",
    "            result = temp_c.copy()\n",
    "            u_c = temp.copy()\n",
    "    \n",
    "    return (result, u_c)\n",
    "            "
   ]
  },
  {
   "cell_type": "code",
   "execution_count": 276,
   "metadata": {},
   "outputs": [
    {
     "data": {
      "text/plain": [
       "({'social': 2, 'email': 1, 'display': 2},\n",
       " [0.7594936708860757,\n",
       "  0.8278145695364195,\n",
       "  0.7747933884297521,\n",
       "  0.5995203836930447,\n",
       "  0.6675567423230946])"
      ]
     },
     "execution_count": 276,
     "metadata": {},
     "output_type": "execute_result"
    }
   ],
   "source": [
    "one_time(df_M_CAC_PB)"
   ]
  }
 ],
 "metadata": {
  "kernelspec": {
   "display_name": "Python 3",
   "language": "python",
   "name": "python3"
  },
  "language_info": {
   "codemirror_mode": {
    "name": "ipython",
    "version": 3
   },
   "file_extension": ".py",
   "mimetype": "text/x-python",
   "name": "python",
   "nbconvert_exporter": "python",
   "pygments_lexer": "ipython3",
   "version": "3.7.4"
  }
 },
 "nbformat": 4,
 "nbformat_minor": 4
}
