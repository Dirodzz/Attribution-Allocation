{
 "cells": [
  {
   "cell_type": "code",
   "execution_count": 95,
   "metadata": {},
   "outputs": [],
   "source": [
    "import pandas as pd\n",
    "import matplotlib.pyplot as ply\n",
    "import numpy as np\n",
    "import math\n",
    "import ast"
   ]
  },
  {
   "cell_type": "code",
   "execution_count": 2,
   "metadata": {},
   "outputs": [],
   "source": [
    "df_c = pd.read_csv('attribution_allocation_student_data.csv')"
   ]
  },
  {
   "cell_type": "code",
   "execution_count": 3,
   "metadata": {},
   "outputs": [
    {
     "data": {
      "text/html": [
       "<div>\n",
       "<style scoped>\n",
       "    .dataframe tbody tr th:only-of-type {\n",
       "        vertical-align: middle;\n",
       "    }\n",
       "\n",
       "    .dataframe tbody tr th {\n",
       "        vertical-align: top;\n",
       "    }\n",
       "\n",
       "    .dataframe thead th {\n",
       "        text-align: right;\n",
       "    }\n",
       "</style>\n",
       "<table border=\"1\" class=\"dataframe\">\n",
       "  <thead>\n",
       "    <tr style=\"text-align: right;\">\n",
       "      <th></th>\n",
       "      <th>convert_TF</th>\n",
       "      <th>touch_1</th>\n",
       "      <th>touch_2</th>\n",
       "      <th>touch_3</th>\n",
       "      <th>touch_4</th>\n",
       "      <th>touch_5</th>\n",
       "      <th>tier</th>\n",
       "    </tr>\n",
       "  </thead>\n",
       "  <tbody>\n",
       "    <tr>\n",
       "      <th>0</th>\n",
       "      <td>True</td>\n",
       "      <td>email</td>\n",
       "      <td>direct</td>\n",
       "      <td>social</td>\n",
       "      <td>NaN</td>\n",
       "      <td>NaN</td>\n",
       "      <td>1</td>\n",
       "    </tr>\n",
       "    <tr>\n",
       "      <th>1</th>\n",
       "      <td>True</td>\n",
       "      <td>social</td>\n",
       "      <td>direct</td>\n",
       "      <td>organic_search</td>\n",
       "      <td>NaN</td>\n",
       "      <td>NaN</td>\n",
       "      <td>1</td>\n",
       "    </tr>\n",
       "    <tr>\n",
       "      <th>2</th>\n",
       "      <td>True</td>\n",
       "      <td>organic_search</td>\n",
       "      <td>display</td>\n",
       "      <td>social</td>\n",
       "      <td>NaN</td>\n",
       "      <td>NaN</td>\n",
       "      <td>1</td>\n",
       "    </tr>\n",
       "    <tr>\n",
       "      <th>3</th>\n",
       "      <td>True</td>\n",
       "      <td>social</td>\n",
       "      <td>direct</td>\n",
       "      <td>NaN</td>\n",
       "      <td>NaN</td>\n",
       "      <td>NaN</td>\n",
       "      <td>1</td>\n",
       "    </tr>\n",
       "    <tr>\n",
       "      <th>4</th>\n",
       "      <td>True</td>\n",
       "      <td>social</td>\n",
       "      <td>display</td>\n",
       "      <td>direct</td>\n",
       "      <td>NaN</td>\n",
       "      <td>NaN</td>\n",
       "      <td>1</td>\n",
       "    </tr>\n",
       "  </tbody>\n",
       "</table>\n",
       "</div>"
      ],
      "text/plain": [
       "   convert_TF         touch_1  touch_2         touch_3 touch_4 touch_5  tier\n",
       "0        True           email   direct          social     NaN     NaN     1\n",
       "1        True          social   direct  organic_search     NaN     NaN     1\n",
       "2        True  organic_search  display          social     NaN     NaN     1\n",
       "3        True          social   direct             NaN     NaN     NaN     1\n",
       "4        True          social  display          direct     NaN     NaN     1"
      ]
     },
     "execution_count": 3,
     "metadata": {},
     "output_type": "execute_result"
    }
   ],
   "source": [
    "df_c.head()"
   ]
  },
  {
   "cell_type": "code",
   "execution_count": 17,
   "metadata": {},
   "outputs": [
    {
     "data": {
      "text/plain": [
       "convert_TF      bool\n",
       "touch_1       object\n",
       "touch_2       object\n",
       "touch_3       object\n",
       "touch_4       object\n",
       "touch_5       object\n",
       "tier           int64\n",
       "dtype: object"
      ]
     },
     "execution_count": 17,
     "metadata": {},
     "output_type": "execute_result"
    }
   ],
   "source": [
    "df_c.dtypes"
   ]
  },
  {
   "cell_type": "code",
   "execution_count": 20,
   "metadata": {},
   "outputs": [],
   "source": [
    "# List of possible channel\n",
    "channel = ['social', 'organic_search', 'referral', 'email', 'paid_search', 'display', 'direct']"
   ]
  },
  {
   "cell_type": "code",
   "execution_count": 70,
   "metadata": {},
   "outputs": [],
   "source": [
    "df_s = pd.read_csv('channel_spend_student_data.csv')"
   ]
  },
  {
   "cell_type": "code",
   "execution_count": 80,
   "metadata": {},
   "outputs": [
    {
     "data": {
      "text/html": [
       "<div>\n",
       "<style scoped>\n",
       "    .dataframe tbody tr th:only-of-type {\n",
       "        vertical-align: middle;\n",
       "    }\n",
       "\n",
       "    .dataframe tbody tr th {\n",
       "        vertical-align: top;\n",
       "    }\n",
       "\n",
       "    .dataframe thead th {\n",
       "        text-align: right;\n",
       "    }\n",
       "</style>\n",
       "<table border=\"1\" class=\"dataframe\">\n",
       "  <thead>\n",
       "    <tr style=\"text-align: right;\">\n",
       "      <th></th>\n",
       "      <th>tier</th>\n",
       "      <th>spend by channel</th>\n",
       "    </tr>\n",
       "  </thead>\n",
       "  <tbody>\n",
       "    <tr>\n",
       "      <th>0</th>\n",
       "      <td>1</td>\n",
       "      <td>{'social': 50, 'organic_search': 0, 'referral'...</td>\n",
       "    </tr>\n",
       "    <tr>\n",
       "      <th>1</th>\n",
       "      <td>2</td>\n",
       "      <td>{'social': 100, 'organic_search': 0, 'referral...</td>\n",
       "    </tr>\n",
       "    <tr>\n",
       "      <th>2</th>\n",
       "      <td>3</td>\n",
       "      <td>{'social': 150, 'organic_search': 0, 'referral...</td>\n",
       "    </tr>\n",
       "    <tr>\n",
       "      <th>3</th>\n",
       "      <td>total</td>\n",
       "      <td>{'social': 300, 'organic_search': 0, 'referral...</td>\n",
       "    </tr>\n",
       "  </tbody>\n",
       "</table>\n",
       "</div>"
      ],
      "text/plain": [
       "    tier                                   spend by channel\n",
       "0      1  {'social': 50, 'organic_search': 0, 'referral'...\n",
       "1      2  {'social': 100, 'organic_search': 0, 'referral...\n",
       "2      3  {'social': 150, 'organic_search': 0, 'referral...\n",
       "3  total  {'social': 300, 'organic_search': 0, 'referral..."
      ]
     },
     "execution_count": 80,
     "metadata": {},
     "output_type": "execute_result"
    }
   ],
   "source": [
    "df_s"
   ]
  },
  {
   "cell_type": "code",
   "execution_count": 97,
   "metadata": {},
   "outputs": [
    {
     "data": {
      "text/plain": [
       "tier                object\n",
       "spend by channel    object\n",
       "dtype: object"
      ]
     },
     "execution_count": 97,
     "metadata": {},
     "output_type": "execute_result"
    }
   ],
   "source": [
    "df_s.dtypes"
   ]
  },
  {
   "cell_type": "code",
   "execution_count": 98,
   "metadata": {},
   "outputs": [],
   "source": [
    "# values in spend by channel column are inputed as in a dictionary format but categorized as string, \n",
    "# modify them to make the dataframe being more accessable\n",
    "\n",
    "for row in df_s.itertuples():\n",
    "    di = ast.literal_eval(row[2])\n",
    "    index = row[0]\n",
    "    \n",
    "    for item in di.items():\n",
    "        df_s.at[index, item[0]] = item[1]"
   ]
  },
  {
   "cell_type": "code",
   "execution_count": 102,
   "metadata": {},
   "outputs": [],
   "source": [
    "# Drop the original column\n",
    "df_s.drop(['spend by channel'], axis = 1, inplace = True)"
   ]
  },
  {
   "cell_type": "code",
   "execution_count": 103,
   "metadata": {},
   "outputs": [
    {
     "data": {
      "text/html": [
       "<div>\n",
       "<style scoped>\n",
       "    .dataframe tbody tr th:only-of-type {\n",
       "        vertical-align: middle;\n",
       "    }\n",
       "\n",
       "    .dataframe tbody tr th {\n",
       "        vertical-align: top;\n",
       "    }\n",
       "\n",
       "    .dataframe thead th {\n",
       "        text-align: right;\n",
       "    }\n",
       "</style>\n",
       "<table border=\"1\" class=\"dataframe\">\n",
       "  <thead>\n",
       "    <tr style=\"text-align: right;\">\n",
       "      <th></th>\n",
       "      <th>tier</th>\n",
       "      <th>social</th>\n",
       "      <th>organic_search</th>\n",
       "      <th>referral</th>\n",
       "      <th>email</th>\n",
       "      <th>paid_search</th>\n",
       "      <th>display</th>\n",
       "      <th>direct</th>\n",
       "    </tr>\n",
       "  </thead>\n",
       "  <tbody>\n",
       "    <tr>\n",
       "      <th>0</th>\n",
       "      <td>1</td>\n",
       "      <td>50.0</td>\n",
       "      <td>0.0</td>\n",
       "      <td>50.0</td>\n",
       "      <td>50.0</td>\n",
       "      <td>50.0</td>\n",
       "      <td>50.0</td>\n",
       "      <td>0.0</td>\n",
       "    </tr>\n",
       "    <tr>\n",
       "      <th>1</th>\n",
       "      <td>2</td>\n",
       "      <td>100.0</td>\n",
       "      <td>0.0</td>\n",
       "      <td>100.0</td>\n",
       "      <td>100.0</td>\n",
       "      <td>100.0</td>\n",
       "      <td>100.0</td>\n",
       "      <td>0.0</td>\n",
       "    </tr>\n",
       "    <tr>\n",
       "      <th>2</th>\n",
       "      <td>3</td>\n",
       "      <td>150.0</td>\n",
       "      <td>0.0</td>\n",
       "      <td>150.0</td>\n",
       "      <td>150.0</td>\n",
       "      <td>150.0</td>\n",
       "      <td>150.0</td>\n",
       "      <td>0.0</td>\n",
       "    </tr>\n",
       "    <tr>\n",
       "      <th>3</th>\n",
       "      <td>total</td>\n",
       "      <td>300.0</td>\n",
       "      <td>0.0</td>\n",
       "      <td>300.0</td>\n",
       "      <td>300.0</td>\n",
       "      <td>300.0</td>\n",
       "      <td>300.0</td>\n",
       "      <td>0.0</td>\n",
       "    </tr>\n",
       "  </tbody>\n",
       "</table>\n",
       "</div>"
      ],
      "text/plain": [
       "    tier  social  organic_search  referral  email  paid_search  display  \\\n",
       "0      1    50.0             0.0      50.0   50.0         50.0     50.0   \n",
       "1      2   100.0             0.0     100.0  100.0        100.0    100.0   \n",
       "2      3   150.0             0.0     150.0  150.0        150.0    150.0   \n",
       "3  total   300.0             0.0     300.0  300.0        300.0    300.0   \n",
       "\n",
       "   direct  \n",
       "0     0.0  \n",
       "1     0.0  \n",
       "2     0.0  \n",
       "3     0.0  "
      ]
     },
     "execution_count": 103,
     "metadata": {},
     "output_type": "execute_result"
    }
   ],
   "source": [
    "df_s"
   ]
  },
  {
   "cell_type": "markdown",
   "metadata": {},
   "source": [
    "## Part 1. Attribution"
   ]
  },
  {
   "cell_type": "markdown",
   "metadata": {},
   "source": [
    "#### Method -- Last Interaction "
   ]
  },
  {
   "cell_type": "code",
   "execution_count": 109,
   "metadata": {},
   "outputs": [],
   "source": [
    "# Create a dictionary to count the number of True convert and False Convert for each channel\n",
    "\n",
    "LI_count = {'Method': 'Last Interaction'}\n",
    "\n",
    "for i in channel:\n",
    "    LI_count[i] = {'True':0, 'False':0}"
   ]
  },
  {
   "cell_type": "code",
   "execution_count": 110,
   "metadata": {
    "scrolled": true
   },
   "outputs": [],
   "source": [
    "# Iterate over the dataframe to obtain the last interaction channel for each customer\n",
    "for row in df_c.itertuples():\n",
    "    # For each customer, get the last interaction channel (not np.nan)\n",
    "    for i in range(6,1,-1):\n",
    "        if not pd.isnull(row[i]):\n",
    "            # Since convert_TF is a boolean, it could be used directly in if-condition statement\n",
    "            if row[1]:\n",
    "                LI_count[row[i]]['True'] +=1\n",
    "            else:\n",
    "                LI_count[row[i]]['False'] +=1\n",
    "            break\n",
    "        "
   ]
  },
  {
   "cell_type": "code",
   "execution_count": 111,
   "metadata": {},
   "outputs": [
    {
     "data": {
      "text/plain": [
       "{'Method': 'Last Interaction',\n",
       " 'social': {'True': 352, 'False': 34287},\n",
       " 'organic_search': {'True': 662, 'False': 51494},\n",
       " 'referral': {'True': 10, 'False': 659},\n",
       " 'email': {'True': 323, 'False': 25449},\n",
       " 'paid_search': {'True': 12, 'False': 681},\n",
       " 'display': {'True': 406, 'False': 57006},\n",
       " 'direct': {'True': 613, 'False': 46458}}"
      ]
     },
     "execution_count": 111,
     "metadata": {},
     "output_type": "execute_result"
    }
   ],
   "source": [
    "LI_count"
   ]
  },
  {
   "cell_type": "code",
   "execution_count": 118,
   "metadata": {},
   "outputs": [
    {
     "name": "stdout",
     "output_type": "stream",
     "text": [
      "218412\n",
      "True\n"
     ]
    }
   ],
   "source": [
    "# Check result\n",
    "\n",
    "su = 0\n",
    "\n",
    "for key in LI_count.keys():\n",
    "    if key != 'Method':\n",
    "        su += LI_count[key]['True']\n",
    "        su += LI_count[key]['False']\n",
    "\n",
    "print(su)\n",
    "print(su == df_c.shape[0])"
   ]
  },
  {
   "cell_type": "code",
   "execution_count": 121,
   "metadata": {},
   "outputs": [],
   "source": [
    "# Calculate CAC for each channel without considering tiers\n",
    "\n",
    "def CAC_calc(d):\n",
    "    \n",
    "    '''\n",
    "    input -> (dict) a dictionary with keys as marketing channels\n",
    "    and values as a sub-dictionary which have keys as convert_TF \n",
    "    and values as number of T and F\n",
    "    \n",
    "    return -> (dict) a dictionary with keys as the marketing channels \n",
    "    and values as CAC calculated using total marketing cost divide \n",
    "    number of successful converted customer for each channel\n",
    "    '''\n",
    "    \n",
    "    # Initiate the result dictionary\n",
    "    result = {}\n",
    "    result['Method'] = d['Method']\n",
    "    \n",
    "    # Calculation\n",
    "    \n",
    "    for key in d.keys():\n",
    "        if key != 'Method':\n",
    "            total_c = float(df_s.loc[(df_s['tier'] == 'total')][key])\n",
    "            n_succ = d[key]['True']\n",
    "        \n",
    "            result[key] = total_c/n_succ\n",
    "        \n",
    "    return result"
   ]
  },
  {
   "cell_type": "code",
   "execution_count": 122,
   "metadata": {},
   "outputs": [
    {
     "data": {
      "text/plain": [
       "{'Method': 'Last Interaction',\n",
       " 'social': 0.8522727272727273,\n",
       " 'organic_search': 0.0,\n",
       " 'referral': 30.0,\n",
       " 'email': 0.9287925696594427,\n",
       " 'paid_search': 25.0,\n",
       " 'display': 0.7389162561576355,\n",
       " 'direct': 0.0}"
      ]
     },
     "execution_count": 122,
     "metadata": {},
     "output_type": "execute_result"
    }
   ],
   "source": [
    "CAC_calc(LI_count)"
   ]
  },
  {
   "cell_type": "markdown",
   "metadata": {},
   "source": [
    "### Method -- First Interaction"
   ]
  },
  {
   "cell_type": "code",
   "execution_count": 132,
   "metadata": {},
   "outputs": [],
   "source": [
    "# Create a dictionary to count the number of True convert and False Convert for each channel\n",
    "\n",
    "FI_count = {'Method': 'First Interaction'}\n",
    "\n",
    "for i in channel:\n",
    "    FI_count[i] = {'True':0, 'False':0}\n",
    "    \n",
    "    \n",
    "# Iterate over the dataframe to obtain the first interaction channel for each customer\n",
    "for row in df_c.itertuples():\n",
    "    # For each customer, get the first interaction channel (not np.nan)\n",
    "    for i in range(2,7,1):\n",
    "        if not pd.isnull(row[i]):\n",
    "            # Since convert_TF is a boolean, it could be used directly in if-condition statement\n",
    "            if row[1]:\n",
    "                FI_count[row[i]]['True'] +=1\n",
    "            else:\n",
    "                FI_count[row[i]]['False'] +=1\n",
    "            break\n",
    "        "
   ]
  },
  {
   "cell_type": "code",
   "execution_count": 133,
   "metadata": {},
   "outputs": [
    {
     "data": {
      "text/plain": [
       "{'Method': 'First Interaction',\n",
       " 'social': {'True': 340, 'False': 34696},\n",
       " 'organic_search': {'True': 675, 'False': 51846},\n",
       " 'referral': {'True': 10, 'False': 681},\n",
       " 'email': {'True': 357, 'False': 25226},\n",
       " 'paid_search': {'True': 12, 'False': 635},\n",
       " 'display': {'True': 434, 'False': 56742},\n",
       " 'direct': {'True': 550, 'False': 46208}}"
      ]
     },
     "execution_count": 133,
     "metadata": {},
     "output_type": "execute_result"
    }
   ],
   "source": [
    "FI_count"
   ]
  },
  {
   "cell_type": "code",
   "execution_count": 134,
   "metadata": {},
   "outputs": [
    {
     "name": "stdout",
     "output_type": "stream",
     "text": [
      "218412\n",
      "True\n"
     ]
    }
   ],
   "source": [
    "# Check result\n",
    "\n",
    "su = 0\n",
    "\n",
    "for key in FI_count.keys():\n",
    "    if key != 'Method':\n",
    "        su += FI_count[key]['True']\n",
    "        su += FI_count[key]['False']\n",
    "\n",
    "print(su)\n",
    "print(su == df_c.shape[0])"
   ]
  },
  {
   "cell_type": "code",
   "execution_count": 135,
   "metadata": {},
   "outputs": [
    {
     "data": {
      "text/plain": [
       "{'Method': 'First Interaction',\n",
       " 'social': 0.8823529411764706,\n",
       " 'organic_search': 0.0,\n",
       " 'referral': 30.0,\n",
       " 'email': 0.8403361344537815,\n",
       " 'paid_search': 25.0,\n",
       " 'display': 0.6912442396313364,\n",
       " 'direct': 0.0}"
      ]
     },
     "execution_count": 135,
     "metadata": {},
     "output_type": "execute_result"
    }
   ],
   "source": [
    "CAC_calc(FI_count)"
   ]
  },
  {
   "cell_type": "markdown",
   "metadata": {},
   "source": [
    "### Method -- Linear Attribution"
   ]
  },
  {
   "cell_type": "code",
   "execution_count": 154,
   "metadata": {},
   "outputs": [],
   "source": [
    "# Create a dictionary to count the number of True convert and False Convert for each channel\n",
    "\n",
    "LA_count = {'Method': 'Linear'}\n",
    "\n",
    "for i in channel:\n",
    "    LA_count[i] = {'True':0, 'False':0}"
   ]
  },
  {
   "cell_type": "code",
   "execution_count": 155,
   "metadata": {},
   "outputs": [],
   "source": [
    "# Iterate over the dataframe to obtain the first interaction channel for each customer\n",
    "for row in df_c.itertuples():\n",
    "    temp = []\n",
    "    \n",
    "    \n",
    "    # For each customer, get all channels used (not np.nan)\n",
    "    for i in range(2,7,1):\n",
    "        if not pd.isnull(row[i]):\n",
    "            temp.append(row[i])\n",
    "    \n",
    "    # Allocate the credit linearly (evenly) to all channels used         \n",
    "    avg_credit = 1/len(temp)\n",
    "    \n",
    "    for i in temp:\n",
    "        if row[1]:\n",
    "            LA_count[i]['True'] += avg_credit\n",
    "        else:\n",
    "            LA_count[i]['False'] += avg_credit\n"
   ]
  },
  {
   "cell_type": "code",
   "execution_count": 156,
   "metadata": {},
   "outputs": [
    {
     "data": {
      "text/plain": [
       "{'Method': 'Linear',\n",
       " 'social': {'True': 353.16666666666396, 'False': 34408.71666665843},\n",
       " 'organic_search': {'True': 667.3333333333375, 'False': 51663.73333335842},\n",
       " 'referral': {'True': 10.283333333333335, 'False': 658.916666666671},\n",
       " 'email': {'True': 337.61666666666446, 'False': 25357.6500000015},\n",
       " 'paid_search': {'True': 10.566666666666668, 'False': 673.4500000000086},\n",
       " 'display': {'True': 416.6666666666625, 'False': 56946.86666669063},\n",
       " 'direct': {'True': 582.3666666666646, 'False': 46324.66666668092}}"
      ]
     },
     "execution_count": 156,
     "metadata": {},
     "output_type": "execute_result"
    }
   ],
   "source": [
    "LA_count"
   ]
  },
  {
   "cell_type": "code",
   "execution_count": 157,
   "metadata": {},
   "outputs": [
    {
     "name": "stdout",
     "output_type": "stream",
     "text": [
      "218412\n",
      "True\n"
     ]
    }
   ],
   "source": [
    "# Check result\n",
    "\n",
    "su = 0\n",
    "\n",
    "for key in FI_count.keys():\n",
    "    if key != 'Method':\n",
    "        su += FI_count[key]['True']\n",
    "        su += FI_count[key]['False']\n",
    "\n",
    "print(su)\n",
    "print(su == df_c.shape[0])"
   ]
  },
  {
   "cell_type": "code",
   "execution_count": 158,
   "metadata": {},
   "outputs": [
    {
     "data": {
      "text/plain": [
       "{'Method': 'Linear',\n",
       " 'social': 0.8494572911750891,\n",
       " 'organic_search': 0.0,\n",
       " 'referral': 29.17341977309562,\n",
       " 'email': 0.8885817248358651,\n",
       " 'paid_search': 28.39116719242902,\n",
       " 'display': 0.7200000000000072,\n",
       " 'direct': 0.0}"
      ]
     },
     "execution_count": 158,
     "metadata": {},
     "output_type": "execute_result"
    }
   ],
   "source": [
    "CAC_calc(LA_count)"
   ]
  },
  {
   "cell_type": "markdown",
   "metadata": {},
   "source": [
    "### Method -- Position Based"
   ]
  },
  {
   "cell_type": "code",
   "execution_count": 166,
   "metadata": {},
   "outputs": [],
   "source": [
    "# Under this method, assuming the first interaction and last interaction contributing 40% of the credit each \n",
    "# and the rest (20%) are evenly assigned to the channel in the middle\n",
    "# If only one channel is used, 100& credit to the channel\n",
    "# If two channels -- 50% for each\n",
    "\n",
    "\n",
    "# Create a dictionary to count the number of True convert and False Convert for each channel\n",
    "\n",
    "PB_count = {'Method': 'Position Based'}\n",
    "\n",
    "for i in channel:\n",
    "    PB_count[i] = {'True':0, 'False':0}"
   ]
  },
  {
   "cell_type": "code",
   "execution_count": 167,
   "metadata": {},
   "outputs": [],
   "source": [
    "# Iterate over the dataframe to obtain the first interaction channel for each customer\n",
    "for row in df_c.itertuples():\n",
    "    temp = []\n",
    "    \n",
    "    # For each customer, get all channels used (not np.nan)\n",
    "    for i in range(2,7,1):\n",
    "        if not pd.isnull(row[i]):\n",
    "            temp.append(row[i])\n",
    "    \n",
    "    # One channel only situation\n",
    "    if len(temp) == 1:\n",
    "        if row[1]:\n",
    "            PB_count[temp[0]]['True'] += 1\n",
    "        else:\n",
    "            PB_count[temp[0]]['False'] += 1\n",
    "    \n",
    "    # Two Channels situation\n",
    "    elif len(temp) == 2:\n",
    "        for i in temp:\n",
    "            if row[1]:\n",
    "                PB_count[i]['True'] += 0.5\n",
    "            else:\n",
    "                PB_count[i]['False'] += 0.5\n",
    "                \n",
    "    # More than two channels            \n",
    "    else:\n",
    "        # Get the first and last channel\n",
    "        first = temp[0]\n",
    "        last = temp[-1]\n",
    "        \n",
    "        # Calcluate the allocation for channels in between\n",
    "        avg_credit = 0.2/(len(temp) - 2)\n",
    "        \n",
    "        \n",
    "        if row[1]:\n",
    "            # Allocate 40% credit to first and last channel\n",
    "            PB_count[first]['True'] += 0.4\n",
    "            PB_count[last]['True'] += 0.4\n",
    "            \n",
    "            # Allocate the remaining 20& credit evenly to the middle channel(s)\n",
    "            for i in range(1, len(temp) - 1, 1):\n",
    "                PB_count[temp[i]]['True'] += avg_credit\n",
    "        \n",
    "        else:\n",
    "            PB_count[first]['False'] += 0.4\n",
    "            PB_count[last]['False'] += 0.4\n",
    "            for i in range(1, len(temp) - 1, 1):\n",
    "                PB_count[temp[i]]['False'] += avg_credit"
   ]
  },
  {
   "cell_type": "code",
   "execution_count": 168,
   "metadata": {},
   "outputs": [
    {
     "data": {
      "text/plain": [
       "{'Method': 'Position Based',\n",
       " 'social': {'True': 349.29999999999717, 'False': 34452.20000002224},\n",
       " 'organic_search': {'True': 669.0333333333288, 'False': 51675.233333359},\n",
       " 'referral': {'True': 10.300000000000002, 'False': 666.1666666666621},\n",
       " 'email': {'True': 340.5666666666644, 'False': 25354.166666679663},\n",
       " 'paid_search': {'True': 11.233333333333336, 'False': 662.7666666666651},\n",
       " 'display': {'True': 416.69999999999635, 'False': 56896.73333335448},\n",
       " 'direct': {'True': 580.866666666661, 'False': 46326.73333335914}}"
      ]
     },
     "execution_count": 168,
     "metadata": {},
     "output_type": "execute_result"
    }
   ],
   "source": [
    "PB_count"
   ]
  },
  {
   "cell_type": "code",
   "execution_count": 169,
   "metadata": {},
   "outputs": [
    {
     "name": "stdout",
     "output_type": "stream",
     "text": [
      "218412\n",
      "True\n"
     ]
    }
   ],
   "source": [
    "# Check result\n",
    "\n",
    "su = 0\n",
    "\n",
    "for key in PB_count.keys():\n",
    "    if key != 'Method':\n",
    "        su += PB_count[key]['True']\n",
    "        su += PB_count[key]['False']\n",
    "\n",
    "print(round(su))\n",
    "print(round(su) == df_c.shape[0])"
   ]
  },
  {
   "cell_type": "code",
   "execution_count": 170,
   "metadata": {},
   "outputs": [
    {
     "data": {
      "text/plain": [
       "{'Method': 'Position Based',\n",
       " 'social': 0.858860578299463,\n",
       " 'organic_search': 0.0,\n",
       " 'referral': 29.126213592233004,\n",
       " 'email': 0.8808847998434042,\n",
       " 'paid_search': 26.706231454005927,\n",
       " 'display': 0.7199424046076377,\n",
       " 'direct': 0.0}"
      ]
     },
     "execution_count": 170,
     "metadata": {},
     "output_type": "execute_result"
    }
   ],
   "source": [
    "CAC_calc(PB_count)"
   ]
  },
  {
   "cell_type": "code",
   "execution_count": null,
   "metadata": {},
   "outputs": [],
   "source": []
  }
 ],
 "metadata": {
  "kernelspec": {
   "display_name": "Python 3",
   "language": "python",
   "name": "python3"
  },
  "language_info": {
   "codemirror_mode": {
    "name": "ipython",
    "version": 3
   },
   "file_extension": ".py",
   "mimetype": "text/x-python",
   "name": "python",
   "nbconvert_exporter": "python",
   "pygments_lexer": "ipython3",
   "version": "3.7.4"
  }
 },
 "nbformat": 4,
 "nbformat_minor": 4
}
